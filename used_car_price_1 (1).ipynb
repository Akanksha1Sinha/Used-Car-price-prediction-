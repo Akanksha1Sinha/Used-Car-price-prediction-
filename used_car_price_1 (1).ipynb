{
 "cells": [
  {
   "cell_type": "markdown",
   "id": "c36f17d5",
   "metadata": {},
   "source": [
    "# Used Car Price Prediction Using Random Forest Algorithm"
   ]
  },
  {
   "cell_type": "markdown",
   "id": "c7ce81b9",
   "metadata": {},
   "source": [
    "I have made this model which will try to predict estimated price of old car on basis of thier features. \n",
    "As now a day we know many people are going to buy second hand car instead of buying new one, \n",
    "but main question is how will us know actual price of car  on their features so in order to solve this problem \n",
    "I have used this dataset to build model which will give a estimated price of car at which car should be sold."
   ]
  },
  {
   "cell_type": "markdown",
   "id": "e2bd9abf",
   "metadata": {},
   "source": [
    "## Contents"
   ]
  },
  {
   "cell_type": "markdown",
   "id": "c221d721",
   "metadata": {},
   "source": [
    "This Dataset contains information of 6000+ old cars with different models and features like their Year, Name of the Company, KM driven, Power, Fuel Type and Location."
   ]
  },
  {
   "cell_type": "markdown",
   "id": "62a9fc43",
   "metadata": {},
   "source": [
    "This Dataset contains total 12 features\n",
    "\n",
    "1. Name\n",
    "\n",
    "2. Location\n",
    "\n",
    "3. Year\n",
    "\n",
    "4. Kilometers_Driven\n",
    "\n",
    "5. Fuel_Type\n",
    "\n",
    "6. Transmission\n",
    "\n",
    "7. Owner_Type\n",
    "\n",
    "8. Mileage\n",
    "\n",
    "9. Engine\n",
    "\n",
    "10. Power\n",
    "\n",
    "11. Seats\n",
    "\n",
    "12. Price"
   ]
  },
  {
   "cell_type": "markdown",
   "id": "c38cdea5",
   "metadata": {},
   "source": [
    "### Importing necessary libaries"
   ]
  },
  {
   "cell_type": "code",
   "execution_count": 1,
   "id": "eb3f85a1",
   "metadata": {},
   "outputs": [],
   "source": [
    "import pandas as pd\n",
    "import numpy as np\n",
    "import matplotlib.pyplot as plt\n",
    "import seaborn as sns"
   ]
  },
  {
   "cell_type": "code",
   "execution_count": 2,
   "id": "4430b172",
   "metadata": {},
   "outputs": [],
   "source": [
    "df=pd.read_csv(\"C:\\\\Users\\\\anuus\\\\OneDrive\\\\Desktop\\\\class\\\\usedcar.csv\")    ## we are loading our dataset"
   ]
  },
  {
   "cell_type": "code",
   "execution_count": 3,
   "id": "ab0103a7",
   "metadata": {
    "scrolled": true
   },
   "outputs": [
    {
     "data": {
      "text/html": [
       "<div>\n",
       "<style scoped>\n",
       "    .dataframe tbody tr th:only-of-type {\n",
       "        vertical-align: middle;\n",
       "    }\n",
       "\n",
       "    .dataframe tbody tr th {\n",
       "        vertical-align: top;\n",
       "    }\n",
       "\n",
       "    .dataframe thead th {\n",
       "        text-align: right;\n",
       "    }\n",
       "</style>\n",
       "<table border=\"1\" class=\"dataframe\">\n",
       "  <thead>\n",
       "    <tr style=\"text-align: right;\">\n",
       "      <th></th>\n",
       "      <th>Unnamed: 0</th>\n",
       "      <th>Name</th>\n",
       "      <th>Location</th>\n",
       "      <th>Year</th>\n",
       "      <th>Kilometers_Driven</th>\n",
       "      <th>Fuel_Type</th>\n",
       "      <th>Transmission</th>\n",
       "      <th>Owner_Type</th>\n",
       "      <th>Mileage</th>\n",
       "      <th>Engine</th>\n",
       "      <th>Power</th>\n",
       "      <th>Seats</th>\n",
       "      <th>New_Price</th>\n",
       "      <th>Price</th>\n",
       "    </tr>\n",
       "  </thead>\n",
       "  <tbody>\n",
       "    <tr>\n",
       "      <th>0</th>\n",
       "      <td>0</td>\n",
       "      <td>Maruti Wagon R LXI CNG</td>\n",
       "      <td>Mumbai</td>\n",
       "      <td>2010</td>\n",
       "      <td>72000</td>\n",
       "      <td>CNG</td>\n",
       "      <td>Manual</td>\n",
       "      <td>First</td>\n",
       "      <td>26.6 km/kg</td>\n",
       "      <td>998 CC</td>\n",
       "      <td>58.16 bhp</td>\n",
       "      <td>5.0</td>\n",
       "      <td>NaN</td>\n",
       "      <td>1.75</td>\n",
       "    </tr>\n",
       "    <tr>\n",
       "      <th>1</th>\n",
       "      <td>1</td>\n",
       "      <td>Hyundai Creta 1.6 CRDi SX Option</td>\n",
       "      <td>Pune</td>\n",
       "      <td>2015</td>\n",
       "      <td>41000</td>\n",
       "      <td>Diesel</td>\n",
       "      <td>Manual</td>\n",
       "      <td>First</td>\n",
       "      <td>19.67 kmpl</td>\n",
       "      <td>1582 CC</td>\n",
       "      <td>126.2 bhp</td>\n",
       "      <td>5.0</td>\n",
       "      <td>NaN</td>\n",
       "      <td>12.50</td>\n",
       "    </tr>\n",
       "    <tr>\n",
       "      <th>2</th>\n",
       "      <td>2</td>\n",
       "      <td>Honda Jazz V</td>\n",
       "      <td>Chennai</td>\n",
       "      <td>2011</td>\n",
       "      <td>46000</td>\n",
       "      <td>Petrol</td>\n",
       "      <td>Manual</td>\n",
       "      <td>First</td>\n",
       "      <td>18.2 kmpl</td>\n",
       "      <td>1199 CC</td>\n",
       "      <td>88.7 bhp</td>\n",
       "      <td>5.0</td>\n",
       "      <td>8.61 Lakh</td>\n",
       "      <td>4.50</td>\n",
       "    </tr>\n",
       "    <tr>\n",
       "      <th>3</th>\n",
       "      <td>3</td>\n",
       "      <td>Maruti Ertiga VDI</td>\n",
       "      <td>Chennai</td>\n",
       "      <td>2012</td>\n",
       "      <td>87000</td>\n",
       "      <td>Diesel</td>\n",
       "      <td>Manual</td>\n",
       "      <td>First</td>\n",
       "      <td>20.77 kmpl</td>\n",
       "      <td>1248 CC</td>\n",
       "      <td>88.76 bhp</td>\n",
       "      <td>7.0</td>\n",
       "      <td>NaN</td>\n",
       "      <td>6.00</td>\n",
       "    </tr>\n",
       "    <tr>\n",
       "      <th>4</th>\n",
       "      <td>4</td>\n",
       "      <td>Audi A4 New 2.0 TDI Multitronic</td>\n",
       "      <td>Coimbatore</td>\n",
       "      <td>2013</td>\n",
       "      <td>40670</td>\n",
       "      <td>Diesel</td>\n",
       "      <td>Automatic</td>\n",
       "      <td>Second</td>\n",
       "      <td>15.2 kmpl</td>\n",
       "      <td>1968 CC</td>\n",
       "      <td>140.8 bhp</td>\n",
       "      <td>5.0</td>\n",
       "      <td>NaN</td>\n",
       "      <td>17.74</td>\n",
       "    </tr>\n",
       "  </tbody>\n",
       "</table>\n",
       "</div>"
      ],
      "text/plain": [
       "   Unnamed: 0                              Name    Location  Year  \\\n",
       "0           0            Maruti Wagon R LXI CNG      Mumbai  2010   \n",
       "1           1  Hyundai Creta 1.6 CRDi SX Option        Pune  2015   \n",
       "2           2                      Honda Jazz V     Chennai  2011   \n",
       "3           3                 Maruti Ertiga VDI     Chennai  2012   \n",
       "4           4   Audi A4 New 2.0 TDI Multitronic  Coimbatore  2013   \n",
       "\n",
       "   Kilometers_Driven Fuel_Type Transmission Owner_Type     Mileage   Engine  \\\n",
       "0              72000       CNG       Manual      First  26.6 km/kg   998 CC   \n",
       "1              41000    Diesel       Manual      First  19.67 kmpl  1582 CC   \n",
       "2              46000    Petrol       Manual      First   18.2 kmpl  1199 CC   \n",
       "3              87000    Diesel       Manual      First  20.77 kmpl  1248 CC   \n",
       "4              40670    Diesel    Automatic     Second   15.2 kmpl  1968 CC   \n",
       "\n",
       "       Power  Seats  New_Price  Price  \n",
       "0  58.16 bhp    5.0        NaN   1.75  \n",
       "1  126.2 bhp    5.0        NaN  12.50  \n",
       "2   88.7 bhp    5.0  8.61 Lakh   4.50  \n",
       "3  88.76 bhp    7.0        NaN   6.00  \n",
       "4  140.8 bhp    5.0        NaN  17.74  "
      ]
     },
     "execution_count": 3,
     "metadata": {},
     "output_type": "execute_result"
    }
   ],
   "source": [
    "df.head()         ## retrieve first 5 row of dataset"
   ]
  },
  {
   "cell_type": "code",
   "execution_count": 4,
   "id": "36018373",
   "metadata": {},
   "outputs": [
    {
     "data": {
      "text/plain": [
       "(6019, 14)"
      ]
     },
     "execution_count": 4,
     "metadata": {},
     "output_type": "execute_result"
    }
   ],
   "source": [
    "df.shape              ## Used to check shape of dataset"
   ]
  },
  {
   "cell_type": "code",
   "execution_count": 5,
   "id": "8c0b820f",
   "metadata": {},
   "outputs": [
    {
     "data": {
      "text/plain": [
       "5195"
      ]
     },
     "execution_count": 5,
     "metadata": {},
     "output_type": "execute_result"
    }
   ],
   "source": [
    "df['New_Price'].isna().sum()"
   ]
  },
  {
   "cell_type": "code",
   "execution_count": 6,
   "id": "8e71333a",
   "metadata": {},
   "outputs": [],
   "source": [
    "df.drop(['New_Price'],axis=1,inplace=True)           ## Droping the 'New_price' column "
   ]
  },
  {
   "cell_type": "code",
   "execution_count": 7,
   "id": "6d6d34b8",
   "metadata": {},
   "outputs": [],
   "source": [
    "df=df.drop('Unnamed: 0',axis=1)                      ## Droping the 'Unnamed: 0' column "
   ]
  },
  {
   "cell_type": "code",
   "execution_count": 8,
   "id": "5edbee38",
   "metadata": {},
   "outputs": [
    {
     "data": {
      "text/plain": [
       "(6019, 12)"
      ]
     },
     "execution_count": 8,
     "metadata": {},
     "output_type": "execute_result"
    }
   ],
   "source": [
    "df.shape              ##checking the shape of dataset"
   ]
  },
  {
   "cell_type": "code",
   "execution_count": 9,
   "id": "668ab21c",
   "metadata": {
    "scrolled": true
   },
   "outputs": [
    {
     "name": "stdout",
     "output_type": "stream",
     "text": [
      "<class 'pandas.core.frame.DataFrame'>\n",
      "RangeIndex: 6019 entries, 0 to 6018\n",
      "Data columns (total 12 columns):\n",
      " #   Column             Non-Null Count  Dtype  \n",
      "---  ------             --------------  -----  \n",
      " 0   Name               6019 non-null   object \n",
      " 1   Location           6019 non-null   object \n",
      " 2   Year               6019 non-null   int64  \n",
      " 3   Kilometers_Driven  6019 non-null   int64  \n",
      " 4   Fuel_Type          6019 non-null   object \n",
      " 5   Transmission       6019 non-null   object \n",
      " 6   Owner_Type         6019 non-null   object \n",
      " 7   Mileage            6017 non-null   object \n",
      " 8   Engine             5983 non-null   object \n",
      " 9   Power              5983 non-null   object \n",
      " 10  Seats              5977 non-null   float64\n",
      " 11  Price              6019 non-null   float64\n",
      "dtypes: float64(2), int64(2), object(8)\n",
      "memory usage: 564.4+ KB\n"
     ]
    }
   ],
   "source": [
    "df.info()              ## Used to extract information about columns"
   ]
  },
  {
   "cell_type": "markdown",
   "id": "9bff33a2",
   "metadata": {},
   "source": [
    "## Data Cleaning"
   ]
  },
  {
   "cell_type": "markdown",
   "id": "ed775167",
   "metadata": {},
   "source": [
    "#### Location"
   ]
  },
  {
   "cell_type": "code",
   "execution_count": 10,
   "id": "f9fedd05",
   "metadata": {
    "scrolled": true
   },
   "outputs": [
    {
     "data": {
      "text/plain": [
       "Mumbai        790\n",
       "Hyderabad     742\n",
       "Kochi         651\n",
       "Coimbatore    636\n",
       "Pune          622\n",
       "Delhi         554\n",
       "Kolkata       535\n",
       "Chennai       494\n",
       "Jaipur        413\n",
       "Bangalore     358\n",
       "Ahmedabad     224\n",
       "Name: Location, dtype: int64"
      ]
     },
     "execution_count": 10,
     "metadata": {},
     "output_type": "execute_result"
    }
   ],
   "source": [
    "df['Location'].value_counts()       ## used to give counts of unique value in column "
   ]
  },
  {
   "cell_type": "markdown",
   "id": "a738d651",
   "metadata": {},
   "source": [
    "#### Fuel Type"
   ]
  },
  {
   "cell_type": "code",
   "execution_count": 11,
   "id": "205fe666",
   "metadata": {
    "scrolled": true
   },
   "outputs": [
    {
     "data": {
      "text/plain": [
       "Diesel      3205\n",
       "Petrol      2746\n",
       "CNG           56\n",
       "LPG           10\n",
       "Electric       2\n",
       "Name: Fuel_Type, dtype: int64"
      ]
     },
     "execution_count": 11,
     "metadata": {},
     "output_type": "execute_result"
    }
   ],
   "source": [
    "df['Fuel_Type'].value_counts()"
   ]
  },
  {
   "cell_type": "code",
   "execution_count": 12,
   "id": "87b35f27",
   "metadata": {},
   "outputs": [
    {
     "data": {
      "text/html": [
       "<div>\n",
       "<style scoped>\n",
       "    .dataframe tbody tr th:only-of-type {\n",
       "        vertical-align: middle;\n",
       "    }\n",
       "\n",
       "    .dataframe tbody tr th {\n",
       "        vertical-align: top;\n",
       "    }\n",
       "\n",
       "    .dataframe thead th {\n",
       "        text-align: right;\n",
       "    }\n",
       "</style>\n",
       "<table border=\"1\" class=\"dataframe\">\n",
       "  <thead>\n",
       "    <tr style=\"text-align: right;\">\n",
       "      <th></th>\n",
       "      <th>Name</th>\n",
       "      <th>Location</th>\n",
       "      <th>Year</th>\n",
       "      <th>Kilometers_Driven</th>\n",
       "      <th>Fuel_Type</th>\n",
       "      <th>Transmission</th>\n",
       "      <th>Owner_Type</th>\n",
       "      <th>Mileage</th>\n",
       "      <th>Engine</th>\n",
       "      <th>Power</th>\n",
       "      <th>Seats</th>\n",
       "      <th>Price</th>\n",
       "    </tr>\n",
       "  </thead>\n",
       "  <tbody>\n",
       "    <tr>\n",
       "      <th>5</th>\n",
       "      <td>Hyundai EON LPG Era Plus Option</td>\n",
       "      <td>Hyderabad</td>\n",
       "      <td>2012</td>\n",
       "      <td>75000</td>\n",
       "      <td>LPG</td>\n",
       "      <td>Manual</td>\n",
       "      <td>First</td>\n",
       "      <td>21.1 km/kg</td>\n",
       "      <td>814 CC</td>\n",
       "      <td>55.2 bhp</td>\n",
       "      <td>5.0</td>\n",
       "      <td>2.35</td>\n",
       "    </tr>\n",
       "    <tr>\n",
       "      <th>936</th>\n",
       "      <td>Maruti Wagon R LXI LPG BSIV</td>\n",
       "      <td>Hyderabad</td>\n",
       "      <td>2012</td>\n",
       "      <td>72000</td>\n",
       "      <td>LPG</td>\n",
       "      <td>Manual</td>\n",
       "      <td>First</td>\n",
       "      <td>26.2 km/kg</td>\n",
       "      <td>998 CC</td>\n",
       "      <td>58.2 bhp</td>\n",
       "      <td>5.0</td>\n",
       "      <td>2.85</td>\n",
       "    </tr>\n",
       "    <tr>\n",
       "      <th>987</th>\n",
       "      <td>Maruti Wagon R LXI DUO BSIII</td>\n",
       "      <td>Mumbai</td>\n",
       "      <td>2008</td>\n",
       "      <td>64226</td>\n",
       "      <td>LPG</td>\n",
       "      <td>Manual</td>\n",
       "      <td>First</td>\n",
       "      <td>17.3 km/kg</td>\n",
       "      <td>1061 CC</td>\n",
       "      <td>57.5 bhp</td>\n",
       "      <td>5.0</td>\n",
       "      <td>1.45</td>\n",
       "    </tr>\n",
       "    <tr>\n",
       "      <th>2278</th>\n",
       "      <td>Hyundai Santro Xing GLS LPG</td>\n",
       "      <td>Pune</td>\n",
       "      <td>2010</td>\n",
       "      <td>55000</td>\n",
       "      <td>LPG</td>\n",
       "      <td>Manual</td>\n",
       "      <td>Second</td>\n",
       "      <td>13.45 km/kg</td>\n",
       "      <td>1086 CC</td>\n",
       "      <td>62.1 bhp</td>\n",
       "      <td>5.0</td>\n",
       "      <td>1.65</td>\n",
       "    </tr>\n",
       "    <tr>\n",
       "      <th>2385</th>\n",
       "      <td>Hyundai Santro Xing GLS LPG</td>\n",
       "      <td>Hyderabad</td>\n",
       "      <td>2011</td>\n",
       "      <td>17000</td>\n",
       "      <td>LPG</td>\n",
       "      <td>Manual</td>\n",
       "      <td>First</td>\n",
       "      <td>13.45 km/kg</td>\n",
       "      <td>1086 CC</td>\n",
       "      <td>62.1 bhp</td>\n",
       "      <td>5.0</td>\n",
       "      <td>3.10</td>\n",
       "    </tr>\n",
       "    <tr>\n",
       "      <th>2436</th>\n",
       "      <td>Hyundai i10 Magna LPG</td>\n",
       "      <td>Jaipur</td>\n",
       "      <td>2012</td>\n",
       "      <td>53000</td>\n",
       "      <td>LPG</td>\n",
       "      <td>Manual</td>\n",
       "      <td>Second</td>\n",
       "      <td>19.2 km/kg</td>\n",
       "      <td>1086 CC</td>\n",
       "      <td>68.05 bhp</td>\n",
       "      <td>5.0</td>\n",
       "      <td>2.85</td>\n",
       "    </tr>\n",
       "    <tr>\n",
       "      <th>2941</th>\n",
       "      <td>Hyundai Santro Xing GL Plus LPG</td>\n",
       "      <td>Hyderabad</td>\n",
       "      <td>2014</td>\n",
       "      <td>56000</td>\n",
       "      <td>LPG</td>\n",
       "      <td>Manual</td>\n",
       "      <td>First</td>\n",
       "      <td>13.45 km/kg</td>\n",
       "      <td>1086 CC</td>\n",
       "      <td>62.1 bhp</td>\n",
       "      <td>5.0</td>\n",
       "      <td>3.20</td>\n",
       "    </tr>\n",
       "    <tr>\n",
       "      <th>3595</th>\n",
       "      <td>Maruti Wagon R LX DUO BSIII</td>\n",
       "      <td>Hyderabad</td>\n",
       "      <td>2007</td>\n",
       "      <td>65047</td>\n",
       "      <td>LPG</td>\n",
       "      <td>Manual</td>\n",
       "      <td>First</td>\n",
       "      <td>17.3 km/kg</td>\n",
       "      <td>1061 CC</td>\n",
       "      <td>57.5 bhp</td>\n",
       "      <td>5.0</td>\n",
       "      <td>1.95</td>\n",
       "    </tr>\n",
       "    <tr>\n",
       "      <th>4446</th>\n",
       "      <td>Mahindra E Verito D4</td>\n",
       "      <td>Chennai</td>\n",
       "      <td>2016</td>\n",
       "      <td>50000</td>\n",
       "      <td>Electric</td>\n",
       "      <td>Automatic</td>\n",
       "      <td>First</td>\n",
       "      <td>NaN</td>\n",
       "      <td>72 CC</td>\n",
       "      <td>41 bhp</td>\n",
       "      <td>5.0</td>\n",
       "      <td>13.00</td>\n",
       "    </tr>\n",
       "    <tr>\n",
       "      <th>4904</th>\n",
       "      <td>Toyota Prius 2009-2016 Z4</td>\n",
       "      <td>Mumbai</td>\n",
       "      <td>2011</td>\n",
       "      <td>44000</td>\n",
       "      <td>Electric</td>\n",
       "      <td>Automatic</td>\n",
       "      <td>First</td>\n",
       "      <td>NaN</td>\n",
       "      <td>1798 CC</td>\n",
       "      <td>73 bhp</td>\n",
       "      <td>5.0</td>\n",
       "      <td>12.75</td>\n",
       "    </tr>\n",
       "    <tr>\n",
       "      <th>5506</th>\n",
       "      <td>Maruti Wagon R Duo LX BSIII</td>\n",
       "      <td>Hyderabad</td>\n",
       "      <td>2012</td>\n",
       "      <td>72389</td>\n",
       "      <td>LPG</td>\n",
       "      <td>Manual</td>\n",
       "      <td>First</td>\n",
       "      <td>26.2 km/kg</td>\n",
       "      <td>998 CC</td>\n",
       "      <td>58.2 bhp</td>\n",
       "      <td>5.0</td>\n",
       "      <td>3.20</td>\n",
       "    </tr>\n",
       "    <tr>\n",
       "      <th>5997</th>\n",
       "      <td>Maruti Wagon R Duo Lxi</td>\n",
       "      <td>Jaipur</td>\n",
       "      <td>2010</td>\n",
       "      <td>70000</td>\n",
       "      <td>LPG</td>\n",
       "      <td>Manual</td>\n",
       "      <td>First</td>\n",
       "      <td>26.2 km/kg</td>\n",
       "      <td>998 CC</td>\n",
       "      <td>58.2 bhp</td>\n",
       "      <td>5.0</td>\n",
       "      <td>2.27</td>\n",
       "    </tr>\n",
       "  </tbody>\n",
       "</table>\n",
       "</div>"
      ],
      "text/plain": [
       "                                 Name   Location  Year  Kilometers_Driven  \\\n",
       "5     Hyundai EON LPG Era Plus Option  Hyderabad  2012              75000   \n",
       "936       Maruti Wagon R LXI LPG BSIV  Hyderabad  2012              72000   \n",
       "987      Maruti Wagon R LXI DUO BSIII     Mumbai  2008              64226   \n",
       "2278      Hyundai Santro Xing GLS LPG       Pune  2010              55000   \n",
       "2385      Hyundai Santro Xing GLS LPG  Hyderabad  2011              17000   \n",
       "2436            Hyundai i10 Magna LPG     Jaipur  2012              53000   \n",
       "2941  Hyundai Santro Xing GL Plus LPG  Hyderabad  2014              56000   \n",
       "3595      Maruti Wagon R LX DUO BSIII  Hyderabad  2007              65047   \n",
       "4446             Mahindra E Verito D4    Chennai  2016              50000   \n",
       "4904        Toyota Prius 2009-2016 Z4     Mumbai  2011              44000   \n",
       "5506      Maruti Wagon R Duo LX BSIII  Hyderabad  2012              72389   \n",
       "5997           Maruti Wagon R Duo Lxi     Jaipur  2010              70000   \n",
       "\n",
       "     Fuel_Type Transmission Owner_Type      Mileage   Engine      Power  \\\n",
       "5          LPG       Manual      First   21.1 km/kg   814 CC   55.2 bhp   \n",
       "936        LPG       Manual      First   26.2 km/kg   998 CC   58.2 bhp   \n",
       "987        LPG       Manual      First   17.3 km/kg  1061 CC   57.5 bhp   \n",
       "2278       LPG       Manual     Second  13.45 km/kg  1086 CC   62.1 bhp   \n",
       "2385       LPG       Manual      First  13.45 km/kg  1086 CC   62.1 bhp   \n",
       "2436       LPG       Manual     Second   19.2 km/kg  1086 CC  68.05 bhp   \n",
       "2941       LPG       Manual      First  13.45 km/kg  1086 CC   62.1 bhp   \n",
       "3595       LPG       Manual      First   17.3 km/kg  1061 CC   57.5 bhp   \n",
       "4446  Electric    Automatic      First          NaN    72 CC     41 bhp   \n",
       "4904  Electric    Automatic      First          NaN  1798 CC     73 bhp   \n",
       "5506       LPG       Manual      First   26.2 km/kg   998 CC   58.2 bhp   \n",
       "5997       LPG       Manual      First   26.2 km/kg   998 CC   58.2 bhp   \n",
       "\n",
       "      Seats  Price  \n",
       "5       5.0   2.35  \n",
       "936     5.0   2.85  \n",
       "987     5.0   1.45  \n",
       "2278    5.0   1.65  \n",
       "2385    5.0   3.10  \n",
       "2436    5.0   2.85  \n",
       "2941    5.0   3.20  \n",
       "3595    5.0   1.95  \n",
       "4446    5.0  13.00  \n",
       "4904    5.0  12.75  \n",
       "5506    5.0   3.20  \n",
       "5997    5.0   2.27  "
      ]
     },
     "execution_count": 12,
     "metadata": {},
     "output_type": "execute_result"
    }
   ],
   "source": [
    "df[(df['Fuel_Type']=='Electric') | (df['Fuel_Type']=='LPG')]"
   ]
  },
  {
   "cell_type": "code",
   "execution_count": 13,
   "id": "14d5c56b",
   "metadata": {},
   "outputs": [],
   "source": [
    "i =df[(df['Fuel_Type']=='LPG') | (df['Fuel_Type']=='Electric')].index      ## dropping row which Fuel_Type is LPG or electric\n",
    "df.drop(i,axis=0,inplace=True)                                                  "
   ]
  },
  {
   "cell_type": "markdown",
   "id": "720872b0",
   "metadata": {},
   "source": [
    "#### Transmission"
   ]
  },
  {
   "cell_type": "code",
   "execution_count": 14,
   "id": "270992dd",
   "metadata": {
    "scrolled": true
   },
   "outputs": [
    {
     "data": {
      "text/plain": [
       "Manual       4289\n",
       "Automatic    1718\n",
       "Name: Transmission, dtype: int64"
      ]
     },
     "execution_count": 14,
     "metadata": {},
     "output_type": "execute_result"
    }
   ],
   "source": [
    "df['Transmission'].value_counts()"
   ]
  },
  {
   "cell_type": "markdown",
   "id": "af1430c3",
   "metadata": {},
   "source": [
    "#### Owner_Type"
   ]
  },
  {
   "cell_type": "code",
   "execution_count": 15,
   "id": "38852857",
   "metadata": {
    "scrolled": true
   },
   "outputs": [
    {
     "data": {
      "text/plain": [
       "First             4919\n",
       "Second             966\n",
       "Third              113\n",
       "Fourth & Above       9\n",
       "Name: Owner_Type, dtype: int64"
      ]
     },
     "execution_count": 15,
     "metadata": {},
     "output_type": "execute_result"
    }
   ],
   "source": [
    "df['Owner_Type'].value_counts()"
   ]
  },
  {
   "cell_type": "code",
   "execution_count": 16,
   "id": "eb542cde",
   "metadata": {},
   "outputs": [],
   "source": [
    "i = df[df['Owner_Type']=='Fourth & Above'].index              ## dropping row which Owner_Type is Fourth & Above\n",
    "df.drop(i,axis=0,inplace=True)"
   ]
  },
  {
   "cell_type": "markdown",
   "id": "d12c048a",
   "metadata": {},
   "source": [
    "#### Seats"
   ]
  },
  {
   "cell_type": "code",
   "execution_count": 17,
   "id": "55bd5681",
   "metadata": {
    "scrolled": true
   },
   "outputs": [
    {
     "data": {
      "text/plain": [
       "5.0     4998\n",
       "7.0      672\n",
       "8.0      132\n",
       "4.0       99\n",
       "6.0       31\n",
       "2.0       16\n",
       "10.0       5\n",
       "9.0        3\n",
       "0.0        1\n",
       "Name: Seats, dtype: int64"
      ]
     },
     "execution_count": 17,
     "metadata": {},
     "output_type": "execute_result"
    }
   ],
   "source": [
    "df['Seats'].value_counts()"
   ]
  },
  {
   "cell_type": "code",
   "execution_count": 18,
   "id": "df4e8d2c",
   "metadata": {},
   "outputs": [],
   "source": [
    "df[df['Seats']>8].index                               ## getting index which have more than 8 seats\n",
    "df['Seats']=np.where(df['Seats']>8,5,df['Seats'])"
   ]
  },
  {
   "cell_type": "code",
   "execution_count": 19,
   "id": "53ea675e",
   "metadata": {},
   "outputs": [],
   "source": [
    "df.drop(df[df['Seats']==0].index,axis=0,inplace=True)         ## droping which have 0 seat"
   ]
  },
  {
   "cell_type": "code",
   "execution_count": 20,
   "id": "f09a7dd3",
   "metadata": {
    "scrolled": true
   },
   "outputs": [
    {
     "data": {
      "text/plain": [
       "5.0    5006\n",
       "7.0     672\n",
       "8.0     132\n",
       "4.0      99\n",
       "6.0      31\n",
       "2.0      16\n",
       "Name: Seats, dtype: int64"
      ]
     },
     "execution_count": 20,
     "metadata": {},
     "output_type": "execute_result"
    }
   ],
   "source": [
    "df['Seats'].value_counts()"
   ]
  },
  {
   "cell_type": "markdown",
   "id": "9310377a",
   "metadata": {},
   "source": [
    "#### Name"
   ]
  },
  {
   "cell_type": "code",
   "execution_count": 21,
   "id": "5f2f19bf",
   "metadata": {},
   "outputs": [
    {
     "data": {
      "text/plain": [
       "0                 Maruti Wagon R LXI CNG\n",
       "1       Hyundai Creta 1.6 CRDi SX Option\n",
       "2                           Honda Jazz V\n",
       "3                      Maruti Ertiga VDI\n",
       "4        Audi A4 New 2.0 TDI Multitronic\n",
       "                      ...               \n",
       "6014                    Maruti Swift VDI\n",
       "6015            Hyundai Xcent 1.1 CRDi S\n",
       "6016               Mahindra Xylo D4 BSIV\n",
       "6017                  Maruti Wagon R VXI\n",
       "6018               Chevrolet Beat Diesel\n",
       "Name: Name, Length: 5997, dtype: object"
      ]
     },
     "execution_count": 21,
     "metadata": {},
     "output_type": "execute_result"
    }
   ],
   "source": [
    "df['Name']"
   ]
  },
  {
   "cell_type": "code",
   "execution_count": 22,
   "id": "ee7570d4",
   "metadata": {},
   "outputs": [],
   "source": [
    "df['Model']=df['Name'].map(lambda x: str(x).strip().split(\" \")[1])        #making Model column by taking 2 value of name"
   ]
  },
  {
   "cell_type": "code",
   "execution_count": 23,
   "id": "ca87dfc9",
   "metadata": {},
   "outputs": [],
   "source": [
    "df['Name']=df['Name'].map(lambda x: str(x).strip().split(\" \")[0])         #putting first value of name in name column"
   ]
  },
  {
   "cell_type": "code",
   "execution_count": 24,
   "id": "02f8a346",
   "metadata": {},
   "outputs": [
    {
     "data": {
      "text/html": [
       "<div>\n",
       "<style scoped>\n",
       "    .dataframe tbody tr th:only-of-type {\n",
       "        vertical-align: middle;\n",
       "    }\n",
       "\n",
       "    .dataframe tbody tr th {\n",
       "        vertical-align: top;\n",
       "    }\n",
       "\n",
       "    .dataframe thead th {\n",
       "        text-align: right;\n",
       "    }\n",
       "</style>\n",
       "<table border=\"1\" class=\"dataframe\">\n",
       "  <thead>\n",
       "    <tr style=\"text-align: right;\">\n",
       "      <th></th>\n",
       "      <th>Name</th>\n",
       "      <th>Location</th>\n",
       "      <th>Year</th>\n",
       "      <th>Kilometers_Driven</th>\n",
       "      <th>Fuel_Type</th>\n",
       "      <th>Transmission</th>\n",
       "      <th>Owner_Type</th>\n",
       "      <th>Mileage</th>\n",
       "      <th>Engine</th>\n",
       "      <th>Power</th>\n",
       "      <th>Seats</th>\n",
       "      <th>Price</th>\n",
       "      <th>Model</th>\n",
       "    </tr>\n",
       "  </thead>\n",
       "  <tbody>\n",
       "    <tr>\n",
       "      <th>0</th>\n",
       "      <td>Maruti</td>\n",
       "      <td>Mumbai</td>\n",
       "      <td>2010</td>\n",
       "      <td>72000</td>\n",
       "      <td>CNG</td>\n",
       "      <td>Manual</td>\n",
       "      <td>First</td>\n",
       "      <td>26.6 km/kg</td>\n",
       "      <td>998 CC</td>\n",
       "      <td>58.16 bhp</td>\n",
       "      <td>5.0</td>\n",
       "      <td>1.75</td>\n",
       "      <td>Wagon</td>\n",
       "    </tr>\n",
       "    <tr>\n",
       "      <th>1</th>\n",
       "      <td>Hyundai</td>\n",
       "      <td>Pune</td>\n",
       "      <td>2015</td>\n",
       "      <td>41000</td>\n",
       "      <td>Diesel</td>\n",
       "      <td>Manual</td>\n",
       "      <td>First</td>\n",
       "      <td>19.67 kmpl</td>\n",
       "      <td>1582 CC</td>\n",
       "      <td>126.2 bhp</td>\n",
       "      <td>5.0</td>\n",
       "      <td>12.50</td>\n",
       "      <td>Creta</td>\n",
       "    </tr>\n",
       "    <tr>\n",
       "      <th>2</th>\n",
       "      <td>Honda</td>\n",
       "      <td>Chennai</td>\n",
       "      <td>2011</td>\n",
       "      <td>46000</td>\n",
       "      <td>Petrol</td>\n",
       "      <td>Manual</td>\n",
       "      <td>First</td>\n",
       "      <td>18.2 kmpl</td>\n",
       "      <td>1199 CC</td>\n",
       "      <td>88.7 bhp</td>\n",
       "      <td>5.0</td>\n",
       "      <td>4.50</td>\n",
       "      <td>Jazz</td>\n",
       "    </tr>\n",
       "    <tr>\n",
       "      <th>3</th>\n",
       "      <td>Maruti</td>\n",
       "      <td>Chennai</td>\n",
       "      <td>2012</td>\n",
       "      <td>87000</td>\n",
       "      <td>Diesel</td>\n",
       "      <td>Manual</td>\n",
       "      <td>First</td>\n",
       "      <td>20.77 kmpl</td>\n",
       "      <td>1248 CC</td>\n",
       "      <td>88.76 bhp</td>\n",
       "      <td>7.0</td>\n",
       "      <td>6.00</td>\n",
       "      <td>Ertiga</td>\n",
       "    </tr>\n",
       "    <tr>\n",
       "      <th>4</th>\n",
       "      <td>Audi</td>\n",
       "      <td>Coimbatore</td>\n",
       "      <td>2013</td>\n",
       "      <td>40670</td>\n",
       "      <td>Diesel</td>\n",
       "      <td>Automatic</td>\n",
       "      <td>Second</td>\n",
       "      <td>15.2 kmpl</td>\n",
       "      <td>1968 CC</td>\n",
       "      <td>140.8 bhp</td>\n",
       "      <td>5.0</td>\n",
       "      <td>17.74</td>\n",
       "      <td>A4</td>\n",
       "    </tr>\n",
       "  </tbody>\n",
       "</table>\n",
       "</div>"
      ],
      "text/plain": [
       "      Name    Location  Year  Kilometers_Driven Fuel_Type Transmission  \\\n",
       "0   Maruti      Mumbai  2010              72000       CNG       Manual   \n",
       "1  Hyundai        Pune  2015              41000    Diesel       Manual   \n",
       "2    Honda     Chennai  2011              46000    Petrol       Manual   \n",
       "3   Maruti     Chennai  2012              87000    Diesel       Manual   \n",
       "4     Audi  Coimbatore  2013              40670    Diesel    Automatic   \n",
       "\n",
       "  Owner_Type     Mileage   Engine      Power  Seats  Price   Model  \n",
       "0      First  26.6 km/kg   998 CC  58.16 bhp    5.0   1.75   Wagon  \n",
       "1      First  19.67 kmpl  1582 CC  126.2 bhp    5.0  12.50   Creta  \n",
       "2      First   18.2 kmpl  1199 CC   88.7 bhp    5.0   4.50    Jazz  \n",
       "3      First  20.77 kmpl  1248 CC  88.76 bhp    7.0   6.00  Ertiga  \n",
       "4     Second   15.2 kmpl  1968 CC  140.8 bhp    5.0  17.74      A4  "
      ]
     },
     "execution_count": 24,
     "metadata": {},
     "output_type": "execute_result"
    }
   ],
   "source": [
    "df.head()"
   ]
  },
  {
   "cell_type": "markdown",
   "id": "b42eac9d",
   "metadata": {},
   "source": [
    "#### Year"
   ]
  },
  {
   "cell_type": "code",
   "execution_count": 25,
   "id": "5289a60c",
   "metadata": {
    "scrolled": false
   },
   "outputs": [
    {
     "data": {
      "text/plain": [
       "2014    796\n",
       "2015    744\n",
       "2016    740\n",
       "2013    649\n",
       "2017    587\n",
       "2012    575\n",
       "2011    464\n",
       "2010    339\n",
       "2018    298\n",
       "2009    197\n",
       "2008    171\n",
       "2007    122\n",
       "2019    102\n",
       "2006     77\n",
       "2005     56\n",
       "2004     31\n",
       "2003     17\n",
       "2002     15\n",
       "2001      7\n",
       "2000      4\n",
       "1998      4\n",
       "1999      2\n",
       "Name: Year, dtype: int64"
      ]
     },
     "execution_count": 25,
     "metadata": {},
     "output_type": "execute_result"
    }
   ],
   "source": [
    "df['Year'].value_counts()"
   ]
  },
  {
   "cell_type": "code",
   "execution_count": 26,
   "id": "e9b738f5",
   "metadata": {},
   "outputs": [],
   "source": [
    "df['Year']=np.where(df['Year'].astype(int)<2003,\"less than 2003\",df['Year'])      ## it will group less than 2003 in one group"
   ]
  },
  {
   "cell_type": "code",
   "execution_count": 27,
   "id": "98e38821",
   "metadata": {},
   "outputs": [
    {
     "data": {
      "text/plain": [
       "2014              796\n",
       "2015              744\n",
       "2016              740\n",
       "2013              649\n",
       "2017              587\n",
       "2012              575\n",
       "2011              464\n",
       "2010              339\n",
       "2018              298\n",
       "2009              197\n",
       "2008              171\n",
       "2007              122\n",
       "2019              102\n",
       "2006               77\n",
       "2005               56\n",
       "less than 2003     32\n",
       "2004               31\n",
       "2003               17\n",
       "Name: Year, dtype: int64"
      ]
     },
     "execution_count": 27,
     "metadata": {},
     "output_type": "execute_result"
    }
   ],
   "source": [
    "df['Year'].value_counts()"
   ]
  },
  {
   "cell_type": "markdown",
   "id": "c18e5a75",
   "metadata": {},
   "source": [
    "## Checking data type"
   ]
  },
  {
   "cell_type": "code",
   "execution_count": 28,
   "id": "f1e04fd5",
   "metadata": {},
   "outputs": [
    {
     "data": {
      "text/plain": [
       "Name                  object\n",
       "Location              object\n",
       "Year                  object\n",
       "Kilometers_Driven      int64\n",
       "Fuel_Type             object\n",
       "Transmission          object\n",
       "Owner_Type            object\n",
       "Mileage               object\n",
       "Engine                object\n",
       "Power                 object\n",
       "Seats                float64\n",
       "Price                float64\n",
       "Model                 object\n",
       "dtype: object"
      ]
     },
     "execution_count": 28,
     "metadata": {},
     "output_type": "execute_result"
    }
   ],
   "source": [
    "df.dtypes"
   ]
  },
  {
   "cell_type": "markdown",
   "id": "e4a9f98c",
   "metadata": {},
   "source": [
    "#### Mileage"
   ]
  },
  {
   "cell_type": "code",
   "execution_count": 29,
   "id": "a1160a44",
   "metadata": {
    "scrolled": true
   },
   "outputs": [
    {
     "data": {
      "text/plain": [
       "0       26.6 km/kg\n",
       "1       19.67 kmpl\n",
       "2        18.2 kmpl\n",
       "3       20.77 kmpl\n",
       "4        15.2 kmpl\n",
       "           ...    \n",
       "6014     28.4 kmpl\n",
       "6015     24.4 kmpl\n",
       "6016     14.0 kmpl\n",
       "6017     18.9 kmpl\n",
       "6018    25.44 kmpl\n",
       "Name: Mileage, Length: 5997, dtype: object"
      ]
     },
     "execution_count": 29,
     "metadata": {},
     "output_type": "execute_result"
    }
   ],
   "source": [
    "df['Mileage']"
   ]
  },
  {
   "cell_type": "code",
   "execution_count": 30,
   "id": "8b2c15ad",
   "metadata": {},
   "outputs": [],
   "source": [
    "df['Mileage']=df['Mileage'].map(lambda x: str(x).strip().split(\" \")[0])    ## using map & lambda function to split and \n",
    "                                                                           ## take first value from column"
   ]
  },
  {
   "cell_type": "code",
   "execution_count": 31,
   "id": "3c4b4c80",
   "metadata": {},
   "outputs": [
    {
     "data": {
      "text/plain": [
       "0    26.60\n",
       "1    19.67\n",
       "2    18.20\n",
       "3    20.77\n",
       "4    15.20\n",
       "Name: Mileage, dtype: float64"
      ]
     },
     "execution_count": 31,
     "metadata": {},
     "output_type": "execute_result"
    }
   ],
   "source": [
    "df['Mileage']=df['Mileage'].astype(float)           ## converting object type to float\n",
    "df['Mileage'].head()"
   ]
  },
  {
   "cell_type": "markdown",
   "id": "9a529a53",
   "metadata": {},
   "source": [
    "#### Engine"
   ]
  },
  {
   "cell_type": "code",
   "execution_count": 32,
   "id": "ed597ef4",
   "metadata": {},
   "outputs": [
    {
     "data": {
      "text/plain": [
       "<bound method Series.unique of 0        998 CC\n",
       "1       1582 CC\n",
       "2       1199 CC\n",
       "3       1248 CC\n",
       "4       1968 CC\n",
       "         ...   \n",
       "6014    1248 CC\n",
       "6015    1120 CC\n",
       "6016    2498 CC\n",
       "6017     998 CC\n",
       "6018     936 CC\n",
       "Name: Engine, Length: 5997, dtype: object>"
      ]
     },
     "execution_count": 32,
     "metadata": {},
     "output_type": "execute_result"
    }
   ],
   "source": [
    "df['Engine'].unique"
   ]
  },
  {
   "cell_type": "code",
   "execution_count": 33,
   "id": "6299b481",
   "metadata": {},
   "outputs": [],
   "source": [
    "def fun(x):                                       ## creating a function to extract first value from Engine column\n",
    "    if x == None:\n",
    "        return x\n",
    "    elif len(str(x).split(\" \"))==2:\n",
    "        return str(x).split(\" \")[0]"
   ]
  },
  {
   "cell_type": "code",
   "execution_count": 34,
   "id": "ee499182",
   "metadata": {},
   "outputs": [],
   "source": [
    "df['Engine']=df['Engine'].apply(fun)            ## applying function to Engine column"
   ]
  },
  {
   "cell_type": "code",
   "execution_count": 35,
   "id": "984fedef",
   "metadata": {},
   "outputs": [
    {
     "data": {
      "text/plain": [
       "0     998.0\n",
       "1    1582.0\n",
       "2    1199.0\n",
       "3    1248.0\n",
       "4    1968.0\n",
       "Name: Engine, dtype: float64"
      ]
     },
     "execution_count": 35,
     "metadata": {},
     "output_type": "execute_result"
    }
   ],
   "source": [
    "df['Engine']=df['Engine'].astype(float)            ## converting object type to float\n",
    "df['Engine'].head()"
   ]
  },
  {
   "cell_type": "code",
   "execution_count": 36,
   "id": "27be1679",
   "metadata": {},
   "outputs": [
    {
     "data": {
      "text/plain": [
       "35"
      ]
     },
     "execution_count": 36,
     "metadata": {},
     "output_type": "execute_result"
    }
   ],
   "source": [
    "df['Engine'].isna().sum()                          ## checking null value "
   ]
  },
  {
   "cell_type": "code",
   "execution_count": 37,
   "id": "483c6a4d",
   "metadata": {},
   "outputs": [
    {
     "data": {
      "text/plain": [
       "1621.7853069439786"
      ]
     },
     "execution_count": 37,
     "metadata": {},
     "output_type": "execute_result"
    }
   ],
   "source": [
    "df['Engine'].mean()                               ## calculating mean for engine column"
   ]
  },
  {
   "cell_type": "code",
   "execution_count": 38,
   "id": "3a3bf486",
   "metadata": {},
   "outputs": [],
   "source": [
    "df['Engine'].fillna(df['Engine'].mean(),inplace=True)             ## filling null value with mean value of engine "
   ]
  },
  {
   "cell_type": "code",
   "execution_count": 39,
   "id": "6eb5c316",
   "metadata": {},
   "outputs": [
    {
     "data": {
      "text/plain": [
       "0"
      ]
     },
     "execution_count": 39,
     "metadata": {},
     "output_type": "execute_result"
    }
   ],
   "source": [
    "df['Engine'].isna().sum()                      ## cross checking for null value"
   ]
  },
  {
   "cell_type": "markdown",
   "id": "5e516c67",
   "metadata": {},
   "source": [
    "#### Power"
   ]
  },
  {
   "cell_type": "code",
   "execution_count": 40,
   "id": "a895df7d",
   "metadata": {},
   "outputs": [
    {
     "data": {
      "text/plain": [
       "<bound method Series.unique of 0       58.16 bhp\n",
       "1       126.2 bhp\n",
       "2        88.7 bhp\n",
       "3       88.76 bhp\n",
       "4       140.8 bhp\n",
       "          ...    \n",
       "6014       74 bhp\n",
       "6015       71 bhp\n",
       "6016      112 bhp\n",
       "6017     67.1 bhp\n",
       "6018     57.6 bhp\n",
       "Name: Power, Length: 5997, dtype: object>"
      ]
     },
     "execution_count": 40,
     "metadata": {},
     "output_type": "execute_result"
    }
   ],
   "source": [
    "df['Power'].unique                       ## checking unique values"
   ]
  },
  {
   "cell_type": "code",
   "execution_count": 41,
   "id": "c0a36773",
   "metadata": {},
   "outputs": [],
   "source": [
    "df['Power']=df['Power'].apply(fun)            ## applying function to Power column"
   ]
  },
  {
   "cell_type": "code",
   "execution_count": 42,
   "id": "79d3ffb4",
   "metadata": {},
   "outputs": [
    {
     "data": {
      "text/plain": [
       "0    58.16\n",
       "1    126.2\n",
       "2     88.7\n",
       "3    88.76\n",
       "4    140.8\n",
       "Name: Power, dtype: object"
      ]
     },
     "execution_count": 42,
     "metadata": {},
     "output_type": "execute_result"
    }
   ],
   "source": [
    "df['Power'].head()"
   ]
  },
  {
   "cell_type": "code",
   "execution_count": 43,
   "id": "a4ce4845",
   "metadata": {},
   "outputs": [
    {
     "data": {
      "text/plain": [
       "35"
      ]
     },
     "execution_count": 43,
     "metadata": {},
     "output_type": "execute_result"
    }
   ],
   "source": [
    "df['Power'].isnull().sum()                    ## checking null value"
   ]
  },
  {
   "cell_type": "code",
   "execution_count": 44,
   "id": "589bd901",
   "metadata": {},
   "outputs": [],
   "source": [
    "df['Power'] = pd.to_numeric(df['Power'],errors='coerce')           ## converting data type to numeric"
   ]
  },
  {
   "cell_type": "code",
   "execution_count": 45,
   "id": "30125776",
   "metadata": {},
   "outputs": [
    {
     "data": {
      "text/plain": [
       "113.37310397814491"
      ]
     },
     "execution_count": 45,
     "metadata": {},
     "output_type": "execute_result"
    }
   ],
   "source": [
    "df['Power'].mean()                       ## calculating mean for Power column"
   ]
  },
  {
   "cell_type": "code",
   "execution_count": 46,
   "id": "145b41e3",
   "metadata": {
    "scrolled": true
   },
   "outputs": [],
   "source": [
    "df['Power'].fillna(df['Power'].mean(),inplace=True)       ## replacing null values with mean"
   ]
  },
  {
   "cell_type": "markdown",
   "id": "8b89ad2a",
   "metadata": {},
   "source": [
    "#### Seats"
   ]
  },
  {
   "cell_type": "code",
   "execution_count": 47,
   "id": "b6982015",
   "metadata": {},
   "outputs": [
    {
     "data": {
      "text/plain": [
       "41"
      ]
     },
     "execution_count": 47,
     "metadata": {},
     "output_type": "execute_result"
    }
   ],
   "source": [
    "df['Seats'].isna().sum()                      ## checking null value "
   ]
  },
  {
   "cell_type": "code",
   "execution_count": 48,
   "id": "753fffaf",
   "metadata": {
    "scrolled": true
   },
   "outputs": [
    {
     "data": {
      "text/plain": [
       "0    5.0\n",
       "dtype: float64"
      ]
     },
     "execution_count": 48,
     "metadata": {},
     "output_type": "execute_result"
    }
   ],
   "source": [
    "df2=df['Seats'].mode()                       ## finding mode for seats column\n",
    "df2"
   ]
  },
  {
   "cell_type": "code",
   "execution_count": 49,
   "id": "ffb59ce3",
   "metadata": {},
   "outputs": [],
   "source": [
    "df['Seats'].fillna(value=df2[0], inplace = True)          ## filling null value with mode"
   ]
  },
  {
   "cell_type": "code",
   "execution_count": 50,
   "id": "ab20e9a9",
   "metadata": {
    "scrolled": true
   },
   "outputs": [
    {
     "data": {
      "text/plain": [
       "Name                 0\n",
       "Location             0\n",
       "Year                 0\n",
       "Kilometers_Driven    0\n",
       "Fuel_Type            0\n",
       "Transmission         0\n",
       "Owner_Type           0\n",
       "Mileage              0\n",
       "Engine               0\n",
       "Power                0\n",
       "Seats                0\n",
       "Price                0\n",
       "Model                0\n",
       "dtype: int64"
      ]
     },
     "execution_count": 50,
     "metadata": {},
     "output_type": "execute_result"
    }
   ],
   "source": [
    "df.isna().sum()"
   ]
  },
  {
   "cell_type": "markdown",
   "id": "e9a694c4",
   "metadata": {},
   "source": [
    "# EDA (Exploratory Data Analysis)"
   ]
  },
  {
   "cell_type": "markdown",
   "id": "a632506c",
   "metadata": {},
   "source": [
    "### Total Cars of all Companies"
   ]
  },
  {
   "cell_type": "code",
   "execution_count": 51,
   "id": "bf446e94",
   "metadata": {},
   "outputs": [
    {
     "data": {
      "image/png": "[encoded data removed]",
      "text/plain": [
       "<Figure size 936x648 with 1 Axes>"
      ]
     },
     "metadata": {
      "needs_background": "light"
     },
     "output_type": "display_data"
    }
   ],
   "source": [
    "plt.figure(figsize=(13,9))\n",
    "most_car = df['Name'].value_counts()\n",
    "sns.barplot(y=most_car, x=most_car.index, data=df)\n",
    "plt.xticks(size=15,rotation=90)\n",
    "plt.xlabel(\"Comapny\",size=22,c=\"g\")\n",
    "plt.ylabel(\"Number of car\",size=22,c=\"g\")\n",
    "plt.title(\"Total Cars of all Companies\",size=28,c=\"r\")\n",
    "plt.show()"
   ]
  },
  {
   "cell_type": "markdown",
   "id": "b8127400",
   "metadata": {},
   "source": [
    "Conclusion :-\n",
    "\n",
    "As we can see that Bently, Force, Lamborghini, and Isuzu cars are very less and Maruti and Hyundai are most sold car"
   ]
  },
  {
   "cell_type": "code",
   "execution_count": 52,
   "id": "6337e778",
   "metadata": {},
   "outputs": [
    {
     "data": {
      "text/plain": [
       "Force          3\n",
       "ISUZU          2\n",
       "Smart          1\n",
       "Ambassador     1\n",
       "Isuzu          1\n",
       "Bentley        1\n",
       "Lamborghini    1\n",
       "Name: Name, dtype: int64"
      ]
     },
     "execution_count": 52,
     "metadata": {},
     "output_type": "execute_result"
    }
   ],
   "source": [
    "df['Name'].value_counts()[df['Name'].value_counts()<5]"
   ]
  },
  {
   "cell_type": "code",
   "execution_count": 53,
   "id": "d09ce08c",
   "metadata": {},
   "outputs": [],
   "source": [
    "i = df['Name'].value_counts()[df['Name'].value_counts()<5].index\n",
    "index = df[df['Name'].isin(i)].index\n",
    "df.drop(index,axis=0,inplace=True)"
   ]
  },
  {
   "cell_type": "markdown",
   "id": "fef26aa0",
   "metadata": {},
   "source": [
    "### Total Cars Location wise"
   ]
  },
  {
   "cell_type": "code",
   "execution_count": 54,
   "id": "6b8e55a9",
   "metadata": {
    "scrolled": false
   },
   "outputs": [
    {
     "data": {
      "image/png": "[encoded data removed]",
      "text/plain": [
       "<Figure size 576x432 with 1 Axes>"
      ]
     },
     "metadata": {
      "needs_background": "light"
     },
     "output_type": "display_data"
    }
   ],
   "source": [
    "plt.figure(figsize=(8,6))\n",
    "most_cat = df['Location'].value_counts()\n",
    "sns.barplot(y=most_cat, x=most_cat.index, data=df)\n",
    "plt.xticks(size=15,rotation=90)\n",
    "plt.xlabel(\"Location\",size=15,c=\"b\")\n",
    "plt.ylabel(\"Number of cars\",size=15,c=\"b\")\n",
    "plt.title(\"Total Cars Location wise\",size=22,c=\"r\")\n",
    "plt.show()"
   ]
  },
  {
   "cell_type": "markdown",
   "id": "5e30fc21",
   "metadata": {},
   "source": [
    "conclusion :-\n",
    "    \n",
    "As we can see cars from mumbai hyderbad and Kochi are very high and \n",
    "cars from ahmedabad are very less as compared to all"
   ]
  },
  {
   "cell_type": "markdown",
   "id": "675d486f",
   "metadata": {},
   "source": [
    "### Engine v/s Price"
   ]
  },
  {
   "cell_type": "code",
   "execution_count": 55,
   "id": "d2f1b7c4",
   "metadata": {},
   "outputs": [
    {
     "data": {
      "text/plain": [
       "<AxesSubplot:xlabel='Engine', ylabel='Price'>"
      ]
     },
     "execution_count": 55,
     "metadata": {},
     "output_type": "execute_result"
    },
    {
     "data": {
      "image/png": "[encoded data removed]",
      "text/plain": [
       "<Figure size 432x288 with 1 Axes>"
      ]
     },
     "metadata": {
      "needs_background": "light"
     },
     "output_type": "display_data"
    }
   ],
   "source": [
    "sns.lineplot(x=df['Engine'], y=df['Price'], color=\"green\")"
   ]
  },
  {
   "cell_type": "markdown",
   "id": "15a3781e",
   "metadata": {},
   "source": [
    "### Price range of differents manufactures"
   ]
  },
  {
   "cell_type": "code",
   "execution_count": 56,
   "id": "2c24e5d6",
   "metadata": {},
   "outputs": [
    {
     "data": {
      "image/png": "[encoded data removed]",
      "text/plain": [
       "<Figure size 864x576 with 1 Axes>"
      ]
     },
     "metadata": {
      "needs_background": "light"
     },
     "output_type": "display_data"
    }
   ],
   "source": [
    "plt.figure(figsize=(12,8))\n",
    "sns.barplot(data=df,x=\"Name\",y=\"Price\")\n",
    "plt.xlabel(\"Manufactures\",size=18,c=\"g\")\n",
    "plt.ylabel(\"Price\",size=18,c=\"g\")\n",
    "# plt.title(\"Price range of differents manufactures\",size=25,c=\"r\")\n",
    "plt.xticks(rotation='vertical',size=15)\n",
    "plt.show()"
   ]
  },
  {
   "cell_type": "markdown",
   "id": "0a758a57",
   "metadata": {},
   "source": [
    "conclusion :-\n",
    "    \n",
    "Here clearly we can see that price of cars more depends on its brand and \n",
    "range of price is different for differents brand"
   ]
  },
  {
   "cell_type": "markdown",
   "id": "16db359c",
   "metadata": {},
   "source": [
    "### Fuel Types"
   ]
  },
  {
   "cell_type": "code",
   "execution_count": 57,
   "id": "2defe907",
   "metadata": {},
   "outputs": [
    {
     "data": {
      "image/png": "[encoded data removed]",
      "text/plain": [
       "<Figure size 576x432 with 1 Axes>"
      ]
     },
     "metadata": {
      "needs_background": "light"
     },
     "output_type": "display_data"
    }
   ],
   "source": [
    "plt.figure(figsize=(8,6))\n",
    "sns.barplot(data=df,x=\"Fuel_Type\",y=\"Price\")\n",
    "plt.xlabel(\"Fuel Types\",size=17,c=\"k\")\n",
    "plt.ylabel(\"Price\",size=17,c=\"k\")\n",
    "plt.title(\"Fuel Types\",size=25,c=\"red\")\n",
    "plt.show()"
   ]
  },
  {
   "cell_type": "markdown",
   "id": "511dd205",
   "metadata": {},
   "source": [
    "conclusion :-\n",
    "    \n",
    "See Price for different fuel types\n",
    "Price of diesel cars are more than petrol"
   ]
  },
  {
   "cell_type": "markdown",
   "id": "cb7d696d",
   "metadata": {},
   "source": [
    "### Year vs Price"
   ]
  },
  {
   "cell_type": "code",
   "execution_count": 58,
   "id": "cdf89d82",
   "metadata": {},
   "outputs": [
    {
     "data": {
      "image/png": "[encoded data removed]",
      "text/plain": [
       "<Figure size 1080x576 with 1 Axes>"
      ]
     },
     "metadata": {
      "needs_background": "light"
     },
     "output_type": "display_data"
    }
   ],
   "source": [
    "plt.figure(figsize=(15,8))\n",
    "sns.lineplot(data=df,x=\"Year\",y=\"Price\")\n",
    "plt.xlabel(\"Year\",size=20,c=\"g\")\n",
    "plt.ylabel(\"Price\",size=20,c=\"g\")\n",
    "plt.xticks(size=15,rotation=90)\n",
    "plt.title(\"Year vs Price\",size=25,c=\"r\")\n",
    "plt.show()"
   ]
  },
  {
   "cell_type": "markdown",
   "id": "1c14c6e9",
   "metadata": {},
   "source": [
    "conclusion :-\n",
    "    \n",
    "We can see clearly that as car become older its price get reduces\n"
   ]
  },
  {
   "cell_type": "markdown",
   "id": "d4684955",
   "metadata": {},
   "source": [
    "### Number of Seats"
   ]
  },
  {
   "cell_type": "code",
   "execution_count": 59,
   "id": "bd2dcc46",
   "metadata": {
    "scrolled": false
   },
   "outputs": [
    {
     "data": {
      "image/png": "[encoded data removed]",
      "text/plain": [
       "<Figure size 576x360 with 1 Axes>"
      ]
     },
     "metadata": {
      "needs_background": "light"
     },
     "output_type": "display_data"
    }
   ],
   "source": [
    "plt.figure(figsize=(8,5))\n",
    "sns.countplot(data=df,x=\"Seats\")\n",
    "plt.xlabel(\"Seats\",size=18,c=\"g\")\n",
    "plt.ylabel(\"Frequency\",size=18,c=\"g\")\n",
    "plt.title(\"Number of seats\",size=25,c=\"r\")\n",
    "plt.show()"
   ]
  },
  {
   "cell_type": "markdown",
   "id": "5359c706",
   "metadata": {},
   "source": [
    "conclusion :-\n",
    "    \n",
    "Frequency of 5 seaters cas is very high as compared to other"
   ]
  },
  {
   "cell_type": "markdown",
   "id": "0200585d",
   "metadata": {},
   "source": [
    "#### Owner type "
   ]
  },
  {
   "cell_type": "code",
   "execution_count": 60,
   "id": "d40f110a",
   "metadata": {
    "scrolled": false
   },
   "outputs": [
    {
     "data": {
      "image/png": "[encoded data removed]",
      "text/plain": [
       "<Figure size 432x288 with 1 Axes>"
      ]
     },
     "metadata": {},
     "output_type": "display_data"
    }
   ],
   "source": [
    "labels =df['Owner_Type'].value_counts().index\n",
    "sizes = df['Owner_Type'].value_counts()\n",
    "ex=[0,0.1,0]\n",
    "plt.pie(sizes, labels=labels,autopct='%1.1f%%',explode=ex)\n",
    "plt.title('Total % of Owner',size = 25,c=\"b\")\n",
    "plt.show()"
   ]
  },
  {
   "cell_type": "markdown",
   "id": "6e51d6d3",
   "metadata": {},
   "source": [
    "Conclusion :-\n",
    "    \n",
    "percentages of 1st Owners is very high ie 82 %"
   ]
  },
  {
   "cell_type": "markdown",
   "id": "983e384b",
   "metadata": {},
   "source": [
    "#### Effect of Fuel type Price"
   ]
  },
  {
   "cell_type": "code",
   "execution_count": 61,
   "id": "a2d81bc1",
   "metadata": {
    "scrolled": false
   },
   "outputs": [
    {
     "data": {
      "image/png": "[encoded data removed]",
      "text/plain": [
       "<Figure size 864x432 with 1 Axes>"
      ]
     },
     "metadata": {
      "needs_background": "light"
     },
     "output_type": "display_data"
    }
   ],
   "source": [
    "plt.figure(figsize=(12,6))\n",
    "sns.barplot(data=df,y=\"Price\",x='Location',hue='Fuel_Type')\n",
    "plt.xlabel(\"Location\",size=15,c=\"r\")\n",
    "plt.ylabel(\"Price\",size=15,c=\"r\")\n",
    "plt.title(\"Effect of fuel type on Car price for location\",size=25,c=\"red\")\n",
    "plt.show()"
   ]
  },
  {
   "cell_type": "markdown",
   "id": "8484e0ed",
   "metadata": {},
   "source": [
    "Conclusion :-\n",
    "    \n",
    "Here clearly we can see that price of Diesel car is more than than petrol irespective of location"
   ]
  },
  {
   "cell_type": "markdown",
   "id": "bd0c5f51",
   "metadata": {},
   "source": [
    "### Power v/s Price"
   ]
  },
  {
   "cell_type": "code",
   "execution_count": 62,
   "id": "10484232",
   "metadata": {},
   "outputs": [
    {
     "data": {
      "text/plain": [
       "<AxesSubplot:xlabel='Power', ylabel='Price'>"
      ]
     },
     "execution_count": 62,
     "metadata": {},
     "output_type": "execute_result"
    },
    {
     "data": {
      "image/png": "[encoded data removed]",
      "text/plain": [
       "<Figure size 432x288 with 1 Axes>"
      ]
     },
     "metadata": {
      "needs_background": "light"
     },
     "output_type": "display_data"
    }
   ],
   "source": [
    "sns.lineplot(x=df['Power'], y=df['Price'], color=\"b\")"
   ]
  },
  {
   "cell_type": "markdown",
   "id": "b9a3c6ed",
   "metadata": {},
   "source": [
    "#### Effect of fuel type on price of differents brands"
   ]
  },
  {
   "cell_type": "code",
   "execution_count": 63,
   "id": "d7c4cc71",
   "metadata": {},
   "outputs": [
    {
     "data": {
      "image/png": "[encoded data removed]",
      "text/plain": [
       "<Figure size 1152x432 with 1 Axes>"
      ]
     },
     "metadata": {
      "needs_background": "light"
     },
     "output_type": "display_data"
    }
   ],
   "source": [
    "plt.figure(figsize=(16,6))\n",
    "sns.barplot(data=df,y=\"Price\",x='Name',hue='Fuel_Type')\n",
    "plt.xlabel(\"Company\",size=15,c=\"r\")\n",
    "plt.ylabel(\"Price\",size=15,c=\"r\")\n",
    "plt.xticks(rotation=\"vertical\",size=10)\n",
    "plt.title(\"Effect of fuel type on Price of differents brands\",size=25,c=\"red\")\n",
    "plt.show()"
   ]
  },
  {
   "cell_type": "markdown",
   "id": "6c07ad7c",
   "metadata": {},
   "source": [
    "#### Owner relation with Price"
   ]
  },
  {
   "cell_type": "code",
   "execution_count": 64,
   "id": "41c470b6",
   "metadata": {},
   "outputs": [
    {
     "data": {
      "image/png": "[encoded data removed]",
      "text/plain": [
       "<Figure size 864x432 with 1 Axes>"
      ]
     },
     "metadata": {
      "needs_background": "light"
     },
     "output_type": "display_data"
    }
   ],
   "source": [
    "plt.figure(figsize=(12,6))\n",
    "sns.barplot(data=df,y=\"Price\",x='Location',hue='Owner_Type')\n",
    "plt.xlabel(\"Location\",size=15,c=\"red\")\n",
    "plt.ylabel(\"Price\",size=15,c=\"red\")\n",
    "plt.show()"
   ]
  },
  {
   "cell_type": "markdown",
   "id": "93161972",
   "metadata": {},
   "source": [
    "### Heat Map"
   ]
  },
  {
   "cell_type": "code",
   "execution_count": 65,
   "id": "aee2486d",
   "metadata": {},
   "outputs": [
    {
     "data": {
      "text/plain": [
       "<AxesSubplot:>"
      ]
     },
     "execution_count": 65,
     "metadata": {},
     "output_type": "execute_result"
    },
    {
     "data": {
      "image/png": "[encoded data removed]",
      "text/plain": [
       "<Figure size 720x504 with 2 Axes>"
      ]
     },
     "metadata": {
      "needs_background": "light"
     },
     "output_type": "display_data"
    }
   ],
   "source": [
    "plt.figure(figsize=(10,7))\n",
    "sns.heatmap(df.corr(),annot=True,fmt='.1f')"
   ]
  },
  {
   "cell_type": "markdown",
   "id": "eac91145",
   "metadata": {},
   "source": [
    "Conclusion :-\n",
    "    \n",
    "Here we can see that Engine Power has strong positive realtion with price\n",
    "But we can also realise that Engine and Power itself has strong relation So In order to avoid multicolinearity problem we will drop one which has less correlation with price\n",
    "Power has good relation with price as compared to Engine so we will drop Engine"
   ]
  },
  {
   "cell_type": "markdown",
   "id": "4f8c87f9",
   "metadata": {},
   "source": [
    "# Feature Engineering"
   ]
  },
  {
   "cell_type": "code",
   "execution_count": 66,
   "id": "d2c2a930",
   "metadata": {
    "scrolled": false
   },
   "outputs": [
    {
     "data": {
      "text/plain": [
       "Index(['Name', 'Location', 'Year', 'Kilometers_Driven', 'Fuel_Type',\n",
       "       'Transmission', 'Owner_Type', 'Mileage', 'Engine', 'Power', 'Seats',\n",
       "       'Price', 'Model'],\n",
       "      dtype='object')"
      ]
     },
     "execution_count": 66,
     "metadata": {},
     "output_type": "execute_result"
    }
   ],
   "source": [
    "df.columns                                     ## checking all the column in dataset"
   ]
  },
  {
   "cell_type": "markdown",
   "id": "735ca0b4",
   "metadata": {},
   "source": [
    "#### Drop Features with very less correlation with output price"
   ]
  },
  {
   "cell_type": "code",
   "execution_count": 67,
   "id": "54574968",
   "metadata": {},
   "outputs": [],
   "source": [
    "df.drop(['Mileage','Seats','Engine','Transmission','Kilometers_Driven'],axis=1,inplace=True)      ## dropping less correlated column from dataset"
   ]
  },
  {
   "cell_type": "code",
   "execution_count": 68,
   "id": "50824083",
   "metadata": {},
   "outputs": [],
   "source": [
    "# now we are combining both name and car model in one column"
   ]
  },
  {
   "cell_type": "code",
   "execution_count": 69,
   "id": "44c2c374",
   "metadata": {},
   "outputs": [],
   "source": [
    "df['Car'] = df['Name'].astype(str) + \" \" + df['Model']"
   ]
  },
  {
   "cell_type": "code",
   "execution_count": 70,
   "id": "5f4b5dd3",
   "metadata": {},
   "outputs": [
    {
     "data": {
      "text/html": [
       "<div>\n",
       "<style scoped>\n",
       "    .dataframe tbody tr th:only-of-type {\n",
       "        vertical-align: middle;\n",
       "    }\n",
       "\n",
       "    .dataframe tbody tr th {\n",
       "        vertical-align: top;\n",
       "    }\n",
       "\n",
       "    .dataframe thead th {\n",
       "        text-align: right;\n",
       "    }\n",
       "</style>\n",
       "<table border=\"1\" class=\"dataframe\">\n",
       "  <thead>\n",
       "    <tr style=\"text-align: right;\">\n",
       "      <th></th>\n",
       "      <th>Name</th>\n",
       "      <th>Location</th>\n",
       "      <th>Year</th>\n",
       "      <th>Fuel_Type</th>\n",
       "      <th>Owner_Type</th>\n",
       "      <th>Power</th>\n",
       "      <th>Price</th>\n",
       "      <th>Model</th>\n",
       "      <th>Car</th>\n",
       "    </tr>\n",
       "  </thead>\n",
       "  <tbody>\n",
       "    <tr>\n",
       "      <th>0</th>\n",
       "      <td>Maruti</td>\n",
       "      <td>Mumbai</td>\n",
       "      <td>2010</td>\n",
       "      <td>CNG</td>\n",
       "      <td>First</td>\n",
       "      <td>58.16</td>\n",
       "      <td>1.75</td>\n",
       "      <td>Wagon</td>\n",
       "      <td>Maruti Wagon</td>\n",
       "    </tr>\n",
       "    <tr>\n",
       "      <th>1</th>\n",
       "      <td>Hyundai</td>\n",
       "      <td>Pune</td>\n",
       "      <td>2015</td>\n",
       "      <td>Diesel</td>\n",
       "      <td>First</td>\n",
       "      <td>126.20</td>\n",
       "      <td>12.50</td>\n",
       "      <td>Creta</td>\n",
       "      <td>Hyundai Creta</td>\n",
       "    </tr>\n",
       "    <tr>\n",
       "      <th>2</th>\n",
       "      <td>Honda</td>\n",
       "      <td>Chennai</td>\n",
       "      <td>2011</td>\n",
       "      <td>Petrol</td>\n",
       "      <td>First</td>\n",
       "      <td>88.70</td>\n",
       "      <td>4.50</td>\n",
       "      <td>Jazz</td>\n",
       "      <td>Honda Jazz</td>\n",
       "    </tr>\n",
       "  </tbody>\n",
       "</table>\n",
       "</div>"
      ],
      "text/plain": [
       "      Name Location  Year Fuel_Type Owner_Type   Power  Price  Model  \\\n",
       "0   Maruti   Mumbai  2010       CNG      First   58.16   1.75  Wagon   \n",
       "1  Hyundai     Pune  2015    Diesel      First  126.20  12.50  Creta   \n",
       "2    Honda  Chennai  2011    Petrol      First   88.70   4.50   Jazz   \n",
       "\n",
       "             Car  \n",
       "0   Maruti Wagon  \n",
       "1  Hyundai Creta  \n",
       "2     Honda Jazz  "
      ]
     },
     "execution_count": 70,
     "metadata": {},
     "output_type": "execute_result"
    }
   ],
   "source": [
    "df.head(3)"
   ]
  },
  {
   "cell_type": "code",
   "execution_count": 71,
   "id": "a734308c",
   "metadata": {},
   "outputs": [],
   "source": [
    "df.drop(['Name','Model'],axis=1,inplace=True)                     ## dropping name and model column frm dataset"
   ]
  },
  {
   "cell_type": "code",
   "execution_count": 72,
   "id": "00ea87fb",
   "metadata": {},
   "outputs": [
    {
     "data": {
      "text/html": [
       "<div>\n",
       "<style scoped>\n",
       "    .dataframe tbody tr th:only-of-type {\n",
       "        vertical-align: middle;\n",
       "    }\n",
       "\n",
       "    .dataframe tbody tr th {\n",
       "        vertical-align: top;\n",
       "    }\n",
       "\n",
       "    .dataframe thead th {\n",
       "        text-align: right;\n",
       "    }\n",
       "</style>\n",
       "<table border=\"1\" class=\"dataframe\">\n",
       "  <thead>\n",
       "    <tr style=\"text-align: right;\">\n",
       "      <th></th>\n",
       "      <th>Location</th>\n",
       "      <th>Year</th>\n",
       "      <th>Fuel_Type</th>\n",
       "      <th>Owner_Type</th>\n",
       "      <th>Power</th>\n",
       "      <th>Price</th>\n",
       "      <th>Car</th>\n",
       "    </tr>\n",
       "  </thead>\n",
       "  <tbody>\n",
       "    <tr>\n",
       "      <th>0</th>\n",
       "      <td>Mumbai</td>\n",
       "      <td>2010</td>\n",
       "      <td>CNG</td>\n",
       "      <td>First</td>\n",
       "      <td>58.16</td>\n",
       "      <td>1.75</td>\n",
       "      <td>Maruti Wagon</td>\n",
       "    </tr>\n",
       "    <tr>\n",
       "      <th>1</th>\n",
       "      <td>Pune</td>\n",
       "      <td>2015</td>\n",
       "      <td>Diesel</td>\n",
       "      <td>First</td>\n",
       "      <td>126.20</td>\n",
       "      <td>12.50</td>\n",
       "      <td>Hyundai Creta</td>\n",
       "    </tr>\n",
       "    <tr>\n",
       "      <th>2</th>\n",
       "      <td>Chennai</td>\n",
       "      <td>2011</td>\n",
       "      <td>Petrol</td>\n",
       "      <td>First</td>\n",
       "      <td>88.70</td>\n",
       "      <td>4.50</td>\n",
       "      <td>Honda Jazz</td>\n",
       "    </tr>\n",
       "    <tr>\n",
       "      <th>3</th>\n",
       "      <td>Chennai</td>\n",
       "      <td>2012</td>\n",
       "      <td>Diesel</td>\n",
       "      <td>First</td>\n",
       "      <td>88.76</td>\n",
       "      <td>6.00</td>\n",
       "      <td>Maruti Ertiga</td>\n",
       "    </tr>\n",
       "    <tr>\n",
       "      <th>4</th>\n",
       "      <td>Coimbatore</td>\n",
       "      <td>2013</td>\n",
       "      <td>Diesel</td>\n",
       "      <td>Second</td>\n",
       "      <td>140.80</td>\n",
       "      <td>17.74</td>\n",
       "      <td>Audi A4</td>\n",
       "    </tr>\n",
       "  </tbody>\n",
       "</table>\n",
       "</div>"
      ],
      "text/plain": [
       "     Location  Year Fuel_Type Owner_Type   Power  Price            Car\n",
       "0      Mumbai  2010       CNG      First   58.16   1.75   Maruti Wagon\n",
       "1        Pune  2015    Diesel      First  126.20  12.50  Hyundai Creta\n",
       "2     Chennai  2011    Petrol      First   88.70   4.50     Honda Jazz\n",
       "3     Chennai  2012    Diesel      First   88.76   6.00  Maruti Ertiga\n",
       "4  Coimbatore  2013    Diesel     Second  140.80  17.74        Audi A4"
      ]
     },
     "execution_count": 72,
     "metadata": {},
     "output_type": "execute_result"
    }
   ],
   "source": [
    "df.head()"
   ]
  },
  {
   "cell_type": "code",
   "execution_count": 73,
   "id": "ea837311",
   "metadata": {},
   "outputs": [],
   "source": [
    "df = df[['Car','Location','Year','Owner_Type','Fuel_Type','Power','Price']]   ##rearranging the columns "
   ]
  },
  {
   "cell_type": "code",
   "execution_count": 74,
   "id": "6b74ef2a",
   "metadata": {},
   "outputs": [
    {
     "data": {
      "text/html": [
       "<div>\n",
       "<style scoped>\n",
       "    .dataframe tbody tr th:only-of-type {\n",
       "        vertical-align: middle;\n",
       "    }\n",
       "\n",
       "    .dataframe tbody tr th {\n",
       "        vertical-align: top;\n",
       "    }\n",
       "\n",
       "    .dataframe thead th {\n",
       "        text-align: right;\n",
       "    }\n",
       "</style>\n",
       "<table border=\"1\" class=\"dataframe\">\n",
       "  <thead>\n",
       "    <tr style=\"text-align: right;\">\n",
       "      <th></th>\n",
       "      <th>Car</th>\n",
       "      <th>Location</th>\n",
       "      <th>Year</th>\n",
       "      <th>Owner_Type</th>\n",
       "      <th>Fuel_Type</th>\n",
       "      <th>Power</th>\n",
       "      <th>Price</th>\n",
       "    </tr>\n",
       "  </thead>\n",
       "  <tbody>\n",
       "    <tr>\n",
       "      <th>0</th>\n",
       "      <td>Maruti Wagon</td>\n",
       "      <td>Mumbai</td>\n",
       "      <td>2010</td>\n",
       "      <td>First</td>\n",
       "      <td>CNG</td>\n",
       "      <td>58.16</td>\n",
       "      <td>1.75</td>\n",
       "    </tr>\n",
       "    <tr>\n",
       "      <th>1</th>\n",
       "      <td>Hyundai Creta</td>\n",
       "      <td>Pune</td>\n",
       "      <td>2015</td>\n",
       "      <td>First</td>\n",
       "      <td>Diesel</td>\n",
       "      <td>126.20</td>\n",
       "      <td>12.50</td>\n",
       "    </tr>\n",
       "    <tr>\n",
       "      <th>2</th>\n",
       "      <td>Honda Jazz</td>\n",
       "      <td>Chennai</td>\n",
       "      <td>2011</td>\n",
       "      <td>First</td>\n",
       "      <td>Petrol</td>\n",
       "      <td>88.70</td>\n",
       "      <td>4.50</td>\n",
       "    </tr>\n",
       "    <tr>\n",
       "      <th>3</th>\n",
       "      <td>Maruti Ertiga</td>\n",
       "      <td>Chennai</td>\n",
       "      <td>2012</td>\n",
       "      <td>First</td>\n",
       "      <td>Diesel</td>\n",
       "      <td>88.76</td>\n",
       "      <td>6.00</td>\n",
       "    </tr>\n",
       "    <tr>\n",
       "      <th>4</th>\n",
       "      <td>Audi A4</td>\n",
       "      <td>Coimbatore</td>\n",
       "      <td>2013</td>\n",
       "      <td>Second</td>\n",
       "      <td>Diesel</td>\n",
       "      <td>140.80</td>\n",
       "      <td>17.74</td>\n",
       "    </tr>\n",
       "  </tbody>\n",
       "</table>\n",
       "</div>"
      ],
      "text/plain": [
       "             Car    Location  Year Owner_Type Fuel_Type   Power  Price\n",
       "0   Maruti Wagon      Mumbai  2010      First       CNG   58.16   1.75\n",
       "1  Hyundai Creta        Pune  2015      First    Diesel  126.20  12.50\n",
       "2     Honda Jazz     Chennai  2011      First    Petrol   88.70   4.50\n",
       "3  Maruti Ertiga     Chennai  2012      First    Diesel   88.76   6.00\n",
       "4        Audi A4  Coimbatore  2013     Second    Diesel  140.80  17.74"
      ]
     },
     "execution_count": 74,
     "metadata": {},
     "output_type": "execute_result"
    }
   ],
   "source": [
    "df.head()"
   ]
  },
  {
   "cell_type": "markdown",
   "id": "ed8766ef",
   "metadata": {},
   "source": [
    "# Removing Outliers"
   ]
  },
  {
   "cell_type": "markdown",
   "id": "3a98f3ee",
   "metadata": {},
   "source": [
    "### removing outliers of Power"
   ]
  },
  {
   "cell_type": "code",
   "execution_count": 75,
   "id": "bf757a56",
   "metadata": {},
   "outputs": [
    {
     "data": {
      "text/plain": [
       "<AxesSubplot:xlabel='Power'>"
      ]
     },
     "execution_count": 75,
     "metadata": {},
     "output_type": "execute_result"
    },
    {
     "data": {
      "image/png": "[encoded data removed]",
      "text/plain": [
       "<Figure size 432x288 with 1 Axes>"
      ]
     },
     "metadata": {
      "needs_background": "light"
     },
     "output_type": "display_data"
    }
   ],
   "source": [
    "sns.boxplot(x=df['Power'])"
   ]
  },
  {
   "cell_type": "code",
   "execution_count": 76,
   "id": "58b098aa",
   "metadata": {},
   "outputs": [],
   "source": [
    "percentile25 = df['Power'].quantile(0.25)\n",
    "percentile75 = df['Power'].quantile(0.75)"
   ]
  },
  {
   "cell_type": "code",
   "execution_count": 77,
   "id": "e703bd7e",
   "metadata": {},
   "outputs": [],
   "source": [
    "iqr= percentile75 - percentile25"
   ]
  },
  {
   "cell_type": "code",
   "execution_count": 78,
   "id": "c1abfd81",
   "metadata": {},
   "outputs": [
    {
     "data": {
      "text/plain": [
       "(228.075, -12.045000000000002)"
      ]
     },
     "execution_count": 78,
     "metadata": {},
     "output_type": "execute_result"
    }
   ],
   "source": [
    "upper_limit = percentile75 + 1.5 * iqr\n",
    "lower_limit = percentile25 - 1.5 * iqr\n",
    "upper_limit,lower_limit"
   ]
  },
  {
   "cell_type": "code",
   "execution_count": 79,
   "id": "993e746d",
   "metadata": {},
   "outputs": [
    {
     "data": {
      "text/html": [
       "<div>\n",
       "<style scoped>\n",
       "    .dataframe tbody tr th:only-of-type {\n",
       "        vertical-align: middle;\n",
       "    }\n",
       "\n",
       "    .dataframe tbody tr th {\n",
       "        vertical-align: top;\n",
       "    }\n",
       "\n",
       "    .dataframe thead th {\n",
       "        text-align: right;\n",
       "    }\n",
       "</style>\n",
       "<table border=\"1\" class=\"dataframe\">\n",
       "  <thead>\n",
       "    <tr style=\"text-align: right;\">\n",
       "      <th></th>\n",
       "      <th>Car</th>\n",
       "      <th>Location</th>\n",
       "      <th>Year</th>\n",
       "      <th>Owner_Type</th>\n",
       "      <th>Fuel_Type</th>\n",
       "      <th>Power</th>\n",
       "      <th>Price</th>\n",
       "    </tr>\n",
       "  </thead>\n",
       "  <tbody>\n",
       "    <tr>\n",
       "      <th>38</th>\n",
       "      <td>Mercedes-Benz M-Class</td>\n",
       "      <td>Pune</td>\n",
       "      <td>2013</td>\n",
       "      <td>First</td>\n",
       "      <td>Diesel</td>\n",
       "      <td>254.80</td>\n",
       "      <td>28.00</td>\n",
       "    </tr>\n",
       "    <tr>\n",
       "      <th>70</th>\n",
       "      <td>Porsche Cayenne</td>\n",
       "      <td>Mumbai</td>\n",
       "      <td>2008</td>\n",
       "      <td>First</td>\n",
       "      <td>Petrol</td>\n",
       "      <td>500.00</td>\n",
       "      <td>14.50</td>\n",
       "    </tr>\n",
       "    <tr>\n",
       "      <th>103</th>\n",
       "      <td>Audi A4</td>\n",
       "      <td>Kolkata</td>\n",
       "      <td>2010</td>\n",
       "      <td>First</td>\n",
       "      <td>Diesel</td>\n",
       "      <td>241.40</td>\n",
       "      <td>9.80</td>\n",
       "    </tr>\n",
       "    <tr>\n",
       "      <th>107</th>\n",
       "      <td>Jaguar XF</td>\n",
       "      <td>Hyderabad</td>\n",
       "      <td>2011</td>\n",
       "      <td>Second</td>\n",
       "      <td>Diesel</td>\n",
       "      <td>270.90</td>\n",
       "      <td>24.00</td>\n",
       "    </tr>\n",
       "    <tr>\n",
       "      <th>134</th>\n",
       "      <td>Mercedes-Benz SLC</td>\n",
       "      <td>Kolkata</td>\n",
       "      <td>2017</td>\n",
       "      <td>First</td>\n",
       "      <td>Petrol</td>\n",
       "      <td>362.07</td>\n",
       "      <td>54.00</td>\n",
       "    </tr>\n",
       "    <tr>\n",
       "      <th>...</th>\n",
       "      <td>...</td>\n",
       "      <td>...</td>\n",
       "      <td>...</td>\n",
       "      <td>...</td>\n",
       "      <td>...</td>\n",
       "      <td>...</td>\n",
       "      <td>...</td>\n",
       "    </tr>\n",
       "    <tr>\n",
       "      <th>5919</th>\n",
       "      <td>Jaguar F</td>\n",
       "      <td>Hyderabad</td>\n",
       "      <td>2015</td>\n",
       "      <td>First</td>\n",
       "      <td>Petrol</td>\n",
       "      <td>488.10</td>\n",
       "      <td>100.00</td>\n",
       "    </tr>\n",
       "    <tr>\n",
       "      <th>5927</th>\n",
       "      <td>Audi Q5</td>\n",
       "      <td>Coimbatore</td>\n",
       "      <td>2018</td>\n",
       "      <td>First</td>\n",
       "      <td>Diesel</td>\n",
       "      <td>241.40</td>\n",
       "      <td>45.52</td>\n",
       "    </tr>\n",
       "    <tr>\n",
       "      <th>5946</th>\n",
       "      <td>BMW 5</td>\n",
       "      <td>Bangalore</td>\n",
       "      <td>2016</td>\n",
       "      <td>First</td>\n",
       "      <td>Diesel</td>\n",
       "      <td>258.00</td>\n",
       "      <td>48.00</td>\n",
       "    </tr>\n",
       "    <tr>\n",
       "      <th>6008</th>\n",
       "      <td>Porsche Panamera</td>\n",
       "      <td>Hyderabad</td>\n",
       "      <td>2013</td>\n",
       "      <td>Second</td>\n",
       "      <td>Diesel</td>\n",
       "      <td>300.00</td>\n",
       "      <td>45.00</td>\n",
       "    </tr>\n",
       "    <tr>\n",
       "      <th>6011</th>\n",
       "      <td>Skoda Superb</td>\n",
       "      <td>Hyderabad</td>\n",
       "      <td>2009</td>\n",
       "      <td>First</td>\n",
       "      <td>Petrol</td>\n",
       "      <td>262.60</td>\n",
       "      <td>4.75</td>\n",
       "    </tr>\n",
       "  </tbody>\n",
       "</table>\n",
       "<p>237 rows × 7 columns</p>\n",
       "</div>"
      ],
      "text/plain": [
       "                        Car    Location  Year Owner_Type Fuel_Type   Power  \\\n",
       "38    Mercedes-Benz M-Class        Pune  2013      First    Diesel  254.80   \n",
       "70          Porsche Cayenne      Mumbai  2008      First    Petrol  500.00   \n",
       "103                 Audi A4     Kolkata  2010      First    Diesel  241.40   \n",
       "107               Jaguar XF   Hyderabad  2011     Second    Diesel  270.90   \n",
       "134       Mercedes-Benz SLC     Kolkata  2017      First    Petrol  362.07   \n",
       "...                     ...         ...   ...        ...       ...     ...   \n",
       "5919               Jaguar F   Hyderabad  2015      First    Petrol  488.10   \n",
       "5927                Audi Q5  Coimbatore  2018      First    Diesel  241.40   \n",
       "5946                  BMW 5   Bangalore  2016      First    Diesel  258.00   \n",
       "6008       Porsche Panamera   Hyderabad  2013     Second    Diesel  300.00   \n",
       "6011           Skoda Superb   Hyderabad  2009      First    Petrol  262.60   \n",
       "\n",
       "       Price  \n",
       "38     28.00  \n",
       "70     14.50  \n",
       "103     9.80  \n",
       "107    24.00  \n",
       "134    54.00  \n",
       "...      ...  \n",
       "5919  100.00  \n",
       "5927   45.52  \n",
       "5946   48.00  \n",
       "6008   45.00  \n",
       "6011    4.75  \n",
       "\n",
       "[237 rows x 7 columns]"
      ]
     },
     "execution_count": 79,
     "metadata": {},
     "output_type": "execute_result"
    }
   ],
   "source": [
    "df[(df.Power<lower_limit) | (df.Power>upper_limit)]"
   ]
  },
  {
   "cell_type": "code",
   "execution_count": 80,
   "id": "8c44b720",
   "metadata": {},
   "outputs": [
    {
     "data": {
      "text/plain": [
       "(5987, 7)"
      ]
     },
     "execution_count": 80,
     "metadata": {},
     "output_type": "execute_result"
    }
   ],
   "source": [
    "df.shape"
   ]
  },
  {
   "cell_type": "code",
   "execution_count": 81,
   "id": "6ac7e185",
   "metadata": {},
   "outputs": [],
   "source": [
    "df_new =  df[(df.Power>lower_limit) & (df.Power<upper_limit)]"
   ]
  },
  {
   "cell_type": "code",
   "execution_count": 82,
   "id": "6222b1a2",
   "metadata": {},
   "outputs": [
    {
     "data": {
      "text/plain": [
       "(5750, 7)"
      ]
     },
     "execution_count": 82,
     "metadata": {},
     "output_type": "execute_result"
    }
   ],
   "source": [
    "df_new.shape"
   ]
  },
  {
   "cell_type": "markdown",
   "id": "12ccfb8a",
   "metadata": {},
   "source": [
    "# Label encoding"
   ]
  },
  {
   "cell_type": "markdown",
   "id": "ad1f1e50",
   "metadata": {},
   "source": [
    "It is used to convert the categorical variable to numerical variable"
   ]
  },
  {
   "cell_type": "code",
   "execution_count": 83,
   "id": "f337d19e",
   "metadata": {},
   "outputs": [],
   "source": [
    "from sklearn.preprocessing import LabelEncoder                  ## importing label encoder"
   ]
  },
  {
   "cell_type": "code",
   "execution_count": 84,
   "id": "53f4120d",
   "metadata": {},
   "outputs": [],
   "source": [
    "le=LabelEncoder()"
   ]
  },
  {
   "cell_type": "code",
   "execution_count": 85,
   "id": "a7b3d534",
   "metadata": {},
   "outputs": [],
   "source": [
    "df.Car=le.fit_transform(df.Car)                              ## converting all the categorical variable into numerical variable\n",
    "df.Location=le.fit_transform(df.Location)                    ## like:- car,location,fuel type,owner type, year\n",
    "df.Fuel_Type=le.fit_transform(df.Fuel_Type)\n",
    "df.Owner_Type=le.fit_transform(df.Owner_Type)\n",
    "df.Year=le.fit_transform(df.Year)"
   ]
  },
  {
   "cell_type": "code",
   "execution_count": 86,
   "id": "07c56bee",
   "metadata": {},
   "outputs": [
    {
     "data": {
      "text/html": [
       "<div>\n",
       "<style scoped>\n",
       "    .dataframe tbody tr th:only-of-type {\n",
       "        vertical-align: middle;\n",
       "    }\n",
       "\n",
       "    .dataframe tbody tr th {\n",
       "        vertical-align: top;\n",
       "    }\n",
       "\n",
       "    .dataframe thead th {\n",
       "        text-align: right;\n",
       "    }\n",
       "</style>\n",
       "<table border=\"1\" class=\"dataframe\">\n",
       "  <thead>\n",
       "    <tr style=\"text-align: right;\">\n",
       "      <th></th>\n",
       "      <th>Car</th>\n",
       "      <th>Location</th>\n",
       "      <th>Year</th>\n",
       "      <th>Owner_Type</th>\n",
       "      <th>Fuel_Type</th>\n",
       "      <th>Power</th>\n",
       "      <th>Price</th>\n",
       "    </tr>\n",
       "  </thead>\n",
       "  <tbody>\n",
       "    <tr>\n",
       "      <th>0</th>\n",
       "      <td>119</td>\n",
       "      <td>9</td>\n",
       "      <td>7</td>\n",
       "      <td>0</td>\n",
       "      <td>0</td>\n",
       "      <td>58.16</td>\n",
       "      <td>1.75</td>\n",
       "    </tr>\n",
       "    <tr>\n",
       "      <th>1</th>\n",
       "      <td>62</td>\n",
       "      <td>10</td>\n",
       "      <td>12</td>\n",
       "      <td>0</td>\n",
       "      <td>1</td>\n",
       "      <td>126.20</td>\n",
       "      <td>12.50</td>\n",
       "    </tr>\n",
       "    <tr>\n",
       "      <th>2</th>\n",
       "      <td>57</td>\n",
       "      <td>2</td>\n",
       "      <td>8</td>\n",
       "      <td>0</td>\n",
       "      <td>2</td>\n",
       "      <td>88.70</td>\n",
       "      <td>4.50</td>\n",
       "    </tr>\n",
       "    <tr>\n",
       "      <th>3</th>\n",
       "      <td>106</td>\n",
       "      <td>2</td>\n",
       "      <td>9</td>\n",
       "      <td>0</td>\n",
       "      <td>1</td>\n",
       "      <td>88.76</td>\n",
       "      <td>6.00</td>\n",
       "    </tr>\n",
       "    <tr>\n",
       "      <th>4</th>\n",
       "      <td>1</td>\n",
       "      <td>3</td>\n",
       "      <td>10</td>\n",
       "      <td>1</td>\n",
       "      <td>1</td>\n",
       "      <td>140.80</td>\n",
       "      <td>17.74</td>\n",
       "    </tr>\n",
       "  </tbody>\n",
       "</table>\n",
       "</div>"
      ],
      "text/plain": [
       "   Car  Location  Year  Owner_Type  Fuel_Type   Power  Price\n",
       "0  119         9     7           0          0   58.16   1.75\n",
       "1   62        10    12           0          1  126.20  12.50\n",
       "2   57         2     8           0          2   88.70   4.50\n",
       "3  106         2     9           0          1   88.76   6.00\n",
       "4    1         3    10           1          1  140.80  17.74"
      ]
     },
     "execution_count": 86,
     "metadata": {},
     "output_type": "execute_result"
    }
   ],
   "source": [
    "df.head()"
   ]
  },
  {
   "cell_type": "markdown",
   "id": "432e9f11",
   "metadata": {},
   "source": [
    "# Model training"
   ]
  },
  {
   "cell_type": "code",
   "execution_count": 87,
   "id": "a58a1427",
   "metadata": {},
   "outputs": [],
   "source": [
    "X = df.drop(\"Price\",axis=1)   #X --> Independent variables\n",
    "Y= df['Price']                #Y --> Dependent variable"
   ]
  },
  {
   "cell_type": "code",
   "execution_count": 88,
   "id": "13a04724",
   "metadata": {},
   "outputs": [],
   "source": [
    "from sklearn.model_selection import train_test_split                               ## importing train test split\n",
    "X_train,X_test,Y_train,Y_test=train_test_split(X,Y,test_size=0.3,random_state=1)   ## splitting train and test data set "
   ]
  },
  {
   "cell_type": "markdown",
   "id": "35dc1a79",
   "metadata": {},
   "source": [
    "## Linear Regression"
   ]
  },
  {
   "cell_type": "code",
   "execution_count": 89,
   "id": "12d63025",
   "metadata": {},
   "outputs": [],
   "source": [
    "from sklearn.linear_model import LinearRegression              ## importing linear Regression\n",
    "lr = LinearRegression()"
   ]
  },
  {
   "cell_type": "code",
   "execution_count": 90,
   "id": "6a3e64b2",
   "metadata": {},
   "outputs": [
    {
     "name": "stdout",
     "output_type": "stream",
     "text": [
      "Accuracy on Traning set:  67.59795653059832\n",
      "Accuracy on Testing set:  69.6851407901136\n"
     ]
    }
   ],
   "source": [
    "lr.fit(X_train, Y_train)                                       ## fitting x_train and Y_train in model\n",
    "y_pred= lr.predict(X_test)\n",
    "print(\"Accuracy on Traning set: \",lr.score(X_train,Y_train)*100)       ##Checking the accuracy of model \n",
    "print(\"Accuracy on Testing set: \",lr.score(X_test,Y_test)*100)"
   ]
  },
  {
   "cell_type": "code",
   "execution_count": 91,
   "id": "bc778542",
   "metadata": {},
   "outputs": [
    {
     "name": "stdout",
     "output_type": "stream",
     "text": [
      "Mean Square error:  32.90596426726359\n",
      "r square error 0.5793052517189643\n"
     ]
    }
   ],
   "source": [
    "from sklearn.metrics import mean_squared_error,r2_score            ## importing performance matrix\n",
    "print(\"Mean Square error: \",mean_squared_error(y_pred,Y_test))     ## checking mean square error and R2 error\n",
    "print(\"r square error\",r2_score(y_pred,Y_test))"
   ]
  },
  {
   "cell_type": "markdown",
   "id": "db276967",
   "metadata": {},
   "source": [
    "## Decision Tree"
   ]
  },
  {
   "cell_type": "code",
   "execution_count": 92,
   "id": "947a3652",
   "metadata": {},
   "outputs": [
    {
     "data": {
      "text/html": [
       "<style>#sk-container-id-1 {color: black;background-color: white;}#sk-container-id-1 pre{padding: 0;}#sk-container-id-1 div.sk-toggleable {background-color: white;}#sk-container-id-1 label.sk-toggleable__label {cursor: pointer;display: block;width: 100%;margin-bottom: 0;padding: 0.3em;box-sizing: border-box;text-align: center;}#sk-container-id-1 label.sk-toggleable__label-arrow:before {content: \"▸\";float: left;margin-right: 0.25em;color: #696969;}#sk-container-id-1 label.sk-toggleable__label-arrow:hover:before {color: black;}#sk-container-id-1 div.sk-estimator:hover label.sk-toggleable__label-arrow:before {color: black;}#sk-container-id-1 div.sk-toggleable__content {max-height: 0;max-width: 0;overflow: hidden;text-align: left;background-color: #f0f8ff;}#sk-container-id-1 div.sk-toggleable__content pre {margin: 0.2em;color: black;border-radius: 0.25em;background-color: #f0f8ff;}#sk-container-id-1 input.sk-toggleable__control:checked~div.sk-toggleable__content {max-height: 200px;max-width: 100%;overflow: auto;}#sk-container-id-1 input.sk-toggleable__control:checked~label.sk-toggleable__label-arrow:before {content: \"▾\";}#sk-container-id-1 div.sk-estimator input.sk-toggleable__control:checked~label.sk-toggleable__label {background-color: #d4ebff;}#sk-container-id-1 div.sk-label input.sk-toggleable__control:checked~label.sk-toggleable__label {background-color: #d4ebff;}#sk-container-id-1 input.sk-hidden--visually {border: 0;clip: rect(1px 1px 1px 1px);clip: rect(1px, 1px, 1px, 1px);height: 1px;margin: -1px;overflow: hidden;padding: 0;position: absolute;width: 1px;}#sk-container-id-1 div.sk-estimator {font-family: monospace;background-color: #f0f8ff;border: 1px dotted black;border-radius: 0.25em;box-sizing: border-box;margin-bottom: 0.5em;}#sk-container-id-1 div.sk-estimator:hover {background-color: #d4ebff;}#sk-container-id-1 div.sk-parallel-item::after {content: \"\";width: 100%;border-bottom: 1px solid gray;flex-grow: 1;}#sk-container-id-1 div.sk-label:hover label.sk-toggleable__label {background-color: #d4ebff;}#sk-container-id-1 div.sk-serial::before {content: \"\";position: absolute;border-left: 1px solid gray;box-sizing: border-box;top: 0;bottom: 0;left: 50%;z-index: 0;}#sk-container-id-1 div.sk-serial {display: flex;flex-direction: column;align-items: center;background-color: white;padding-right: 0.2em;padding-left: 0.2em;position: relative;}#sk-container-id-1 div.sk-item {position: relative;z-index: 1;}#sk-container-id-1 div.sk-parallel {display: flex;align-items: stretch;justify-content: center;background-color: white;position: relative;}#sk-container-id-1 div.sk-item::before, #sk-container-id-1 div.sk-parallel-item::before {content: \"\";position: absolute;border-left: 1px solid gray;box-sizing: border-box;top: 0;bottom: 0;left: 50%;z-index: -1;}#sk-container-id-1 div.sk-parallel-item {display: flex;flex-direction: column;z-index: 1;position: relative;background-color: white;}#sk-container-id-1 div.sk-parallel-item:first-child::after {align-self: flex-end;width: 50%;}#sk-container-id-1 div.sk-parallel-item:last-child::after {align-self: flex-start;width: 50%;}#sk-container-id-1 div.sk-parallel-item:only-child::after {width: 0;}#sk-container-id-1 div.sk-dashed-wrapped {border: 1px dashed gray;margin: 0 0.4em 0.5em 0.4em;box-sizing: border-box;padding-bottom: 0.4em;background-color: white;}#sk-container-id-1 div.sk-label label {font-family: monospace;font-weight: bold;display: inline-block;line-height: 1.2em;}#sk-container-id-1 div.sk-label-container {text-align: center;}#sk-container-id-1 div.sk-container {/* jupyter's `normalize.less` sets `[hidden] { display: none; }` but bootstrap.min.css set `[hidden] { display: none !important; }` so we also need the `!important` here to be able to override the default hidden behavior on the sphinx rendered scikit-learn.org. See: https://github.com/scikit-learn/scikit-learn/issues/21755 */display: inline-block !important;position: relative;}#sk-container-id-1 div.sk-text-repr-fallback {display: none;}</style><div id=\"sk-container-id-1\" class=\"sk-top-container\"><div class=\"sk-text-repr-fallback\"><pre>DecisionTreeRegressor(random_state=0)</pre><b>In a Jupyter environment, please rerun this cell to show the HTML representation or trust the notebook. <br />On GitHub, the HTML representation is unable to render, please try loading this page with nbviewer.org.</b></div><div class=\"sk-container\" hidden><div class=\"sk-item\"><div class=\"sk-estimator sk-toggleable\"><input class=\"sk-toggleable__control sk-hidden--visually\" id=\"sk-estimator-id-1\" type=\"checkbox\" checked><label for=\"sk-estimator-id-1\" class=\"sk-toggleable__label sk-toggleable__label-arrow\">DecisionTreeRegressor</label><div class=\"sk-toggleable__content\"><pre>DecisionTreeRegressor(random_state=0)</pre></div></div></div></div></div>"
      ],
      "text/plain": [
       "DecisionTreeRegressor(random_state=0)"
      ]
     },
     "execution_count": 92,
     "metadata": {},
     "output_type": "execute_result"
    }
   ],
   "source": [
    "from sklearn.tree import DecisionTreeRegressor                 ## importing Decision tree model\n",
    "dt = DecisionTreeRegressor(random_state = 0) \n",
    "dt.fit(X_train, Y_train)"
   ]
  },
  {
   "cell_type": "code",
   "execution_count": 93,
   "id": "4e3e296f",
   "metadata": {},
   "outputs": [
    {
     "name": "stdout",
     "output_type": "stream",
     "text": [
      "Accuracy on Trainng set:  99.8696738438991\n",
      "Accuracy on Testing set:  74.2806409182583\n"
     ]
    }
   ],
   "source": [
    "y_pred= dt.predict(X_test)                                           ## fitting x_train and Y_train in model\n",
    "print(\"Accuracy on Trainng set: \",dt.score(X_train,Y_train)*100)\n",
    "print(\"Accuracy on Testing set: \",dt.score(X_test,Y_test)*100)         ##Checking the accuracy of model"
   ]
  },
  {
   "cell_type": "code",
   "execution_count": 94,
   "id": "f55dc4f7",
   "metadata": {
    "scrolled": true
   },
   "outputs": [
    {
     "name": "stdout",
     "output_type": "stream",
     "text": [
      "Mean Square error:  27.917672487316345\n",
      "r square error 0.7700141739167973\n"
     ]
    }
   ],
   "source": [
    "print(\"Mean Square error: \",mean_squared_error(y_pred,Y_test))          ## checking mean square error and R2 error\n",
    "print(\"r square error\",r2_score(y_pred,Y_test))"
   ]
  },
  {
   "cell_type": "markdown",
   "id": "65f8e65e",
   "metadata": {},
   "source": [
    "## Random Forest Regressor"
   ]
  },
  {
   "cell_type": "code",
   "execution_count": 95,
   "id": "42c9d16d",
   "metadata": {},
   "outputs": [],
   "source": [
    "from sklearn.ensemble import RandomForestRegressor                   ## importing Random Forest Regressor model\n",
    "rf = RandomForestRegressor(n_estimators=100,random_state = 1)"
   ]
  },
  {
   "cell_type": "code",
   "execution_count": 96,
   "id": "43805b20",
   "metadata": {},
   "outputs": [
    {
     "name": "stdout",
     "output_type": "stream",
     "text": [
      "Accuracy on Trainng set:  98.20136567059441\n",
      "Accuracy on Testing set:  90.13684553975507\n"
     ]
    }
   ],
   "source": [
    "rf.fit(X_train, Y_train)                                             ## fitting x_train and Y_train in model\n",
    "y_pred= rf.predict(X_test)\n",
    "\n",
    "print(\"Accuracy on Trainng set: \",rf.score(X_train,Y_train)*100)\n",
    "print(\"Accuracy on Testing set: \",rf.score(X_test,Y_test)*100)        ##Checking the accuracy of model"
   ]
  },
  {
   "cell_type": "code",
   "execution_count": 97,
   "id": "f7cf05f9",
   "metadata": {},
   "outputs": [
    {
     "name": "stdout",
     "output_type": "stream",
     "text": [
      "Mean Square error:  10.706188868773491\n",
      "r square error 0.8985339060009732\n"
     ]
    }
   ],
   "source": [
    "print(\"Mean Square error: \",mean_squared_error(y_pred,Y_test))            ## checking mean square error and R2 error\n",
    "print(\"r square error\",r2_score(y_pred,Y_test))"
   ]
  },
  {
   "cell_type": "code",
   "execution_count": 98,
   "id": "fb402ca7",
   "metadata": {},
   "outputs": [
    {
     "data": {
      "text/html": [
       "<div>\n",
       "<style scoped>\n",
       "    .dataframe tbody tr th:only-of-type {\n",
       "        vertical-align: middle;\n",
       "    }\n",
       "\n",
       "    .dataframe tbody tr th {\n",
       "        vertical-align: top;\n",
       "    }\n",
       "\n",
       "    .dataframe thead th {\n",
       "        text-align: right;\n",
       "    }\n",
       "</style>\n",
       "<table border=\"1\" class=\"dataframe\">\n",
       "  <thead>\n",
       "    <tr style=\"text-align: right;\">\n",
       "      <th></th>\n",
       "      <th>Actual</th>\n",
       "      <th>Predicted</th>\n",
       "    </tr>\n",
       "  </thead>\n",
       "  <tbody>\n",
       "    <tr>\n",
       "      <th>5815</th>\n",
       "      <td>9.46</td>\n",
       "      <td>8.075717</td>\n",
       "    </tr>\n",
       "    <tr>\n",
       "      <th>1594</th>\n",
       "      <td>6.21</td>\n",
       "      <td>4.808330</td>\n",
       "    </tr>\n",
       "    <tr>\n",
       "      <th>2644</th>\n",
       "      <td>5.90</td>\n",
       "      <td>5.101900</td>\n",
       "    </tr>\n",
       "    <tr>\n",
       "      <th>2964</th>\n",
       "      <td>6.15</td>\n",
       "      <td>6.342764</td>\n",
       "    </tr>\n",
       "    <tr>\n",
       "      <th>498</th>\n",
       "      <td>4.15</td>\n",
       "      <td>4.554700</td>\n",
       "    </tr>\n",
       "  </tbody>\n",
       "</table>\n",
       "</div>"
      ],
      "text/plain": [
       "      Actual  Predicted\n",
       "5815    9.46   8.075717\n",
       "1594    6.21   4.808330\n",
       "2644    5.90   5.101900\n",
       "2964    6.15   6.342764\n",
       "498     4.15   4.554700"
      ]
     },
     "execution_count": 98,
     "metadata": {},
     "output_type": "execute_result"
    }
   ],
   "source": [
    "df=pd.DataFrame({'Actual':Y_test, 'Predicted':y_pred})                ##checking model accuracy on test dataset\n",
    "df.head()"
   ]
  },
  {
   "cell_type": "markdown",
   "id": "4cd9b249",
   "metadata": {},
   "source": [
    "So, Random Forest Regressor is giving highest accuracy "
   ]
  },
  {
   "cell_type": "markdown",
   "id": "1d011d68",
   "metadata": {},
   "source": [
    "## Hyperparameter tunning"
   ]
  },
  {
   "cell_type": "code",
   "execution_count": 99,
   "id": "e7ed994a",
   "metadata": {},
   "outputs": [],
   "source": [
    "from sklearn.model_selection import GridSearchCV                 # importing grid search cv\n",
    "param_grid = {'bootstrap': [True], 'max_depth': [100,50, 150], 'max_features': ['auto',3], 'n_estimators': [80,100,150]}      ##giving different values for hyperparameters"
   ]
  },
  {
   "cell_type": "code",
   "execution_count": 100,
   "id": "c845fe01",
   "metadata": {},
   "outputs": [],
   "source": [
    "rfr = RandomForestRegressor(random_state = 10)                \n",
    "grid_search = GridSearchCV(estimator = rfr, param_grid = param_grid)"
   ]
  },
  {
   "cell_type": "code",
   "execution_count": 101,
   "id": "00d4a2c4",
   "metadata": {
    "scrolled": false
   },
   "outputs": [
    {
     "name": "stderr",
     "output_type": "stream",
     "text": [
      "C:\\Users\\anuus\\anaconda3\\lib\\site-packages\\sklearn\\ensemble\\_forest.py:416: FutureWarning: `max_features='auto'` has been deprecated in 1.1 and will be removed in 1.3. To keep the past behaviour, explicitly set `max_features=1.0` or remove this parameter as it is also the default value for RandomForestRegressors and ExtraTreesRegressors.\n",
      "  warn(\n",
      "C:\\Users\\anuus\\anaconda3\\lib\\site-packages\\sklearn\\ensemble\\_forest.py:416: FutureWarning: `max_features='auto'` has been deprecated in 1.1 and will be removed in 1.3. To keep the past behaviour, explicitly set `max_features=1.0` or remove this parameter as it is also the default value for RandomForestRegressors and ExtraTreesRegressors.\n",
      "  warn(\n",
      "C:\\Users\\anuus\\anaconda3\\lib\\site-packages\\sklearn\\ensemble\\_forest.py:416: FutureWarning: `max_features='auto'` has been deprecated in 1.1 and will be removed in 1.3. To keep the past behaviour, explicitly set `max_features=1.0` or remove this parameter as it is also the default value for RandomForestRegressors and ExtraTreesRegressors.\n",
      "  warn(\n",
      "C:\\Users\\anuus\\anaconda3\\lib\\site-packages\\sklearn\\ensemble\\_forest.py:416: FutureWarning: `max_features='auto'` has been deprecated in 1.1 and will be removed in 1.3. To keep the past behaviour, explicitly set `max_features=1.0` or remove this parameter as it is also the default value for RandomForestRegressors and ExtraTreesRegressors.\n",
      "  warn(\n",
      "C:\\Users\\anuus\\anaconda3\\lib\\site-packages\\sklearn\\ensemble\\_forest.py:416: FutureWarning: `max_features='auto'` has been deprecated in 1.1 and will be removed in 1.3. To keep the past behaviour, explicitly set `max_features=1.0` or remove this parameter as it is also the default value for RandomForestRegressors and ExtraTreesRegressors.\n",
      "  warn(\n",
      "C:\\Users\\anuus\\anaconda3\\lib\\site-packages\\sklearn\\ensemble\\_forest.py:416: FutureWarning: `max_features='auto'` has been deprecated in 1.1 and will be removed in 1.3. To keep the past behaviour, explicitly set `max_features=1.0` or remove this parameter as it is also the default value for RandomForestRegressors and ExtraTreesRegressors.\n",
      "  warn(\n",
      "C:\\Users\\anuus\\anaconda3\\lib\\site-packages\\sklearn\\ensemble\\_forest.py:416: FutureWarning: `max_features='auto'` has been deprecated in 1.1 and will be removed in 1.3. To keep the past behaviour, explicitly set `max_features=1.0` or remove this parameter as it is also the default value for RandomForestRegressors and ExtraTreesRegressors.\n",
      "  warn(\n",
      "C:\\Users\\anuus\\anaconda3\\lib\\site-packages\\sklearn\\ensemble\\_forest.py:416: FutureWarning: `max_features='auto'` has been deprecated in 1.1 and will be removed in 1.3. To keep the past behaviour, explicitly set `max_features=1.0` or remove this parameter as it is also the default value for RandomForestRegressors and ExtraTreesRegressors.\n",
      "  warn(\n",
      "C:\\Users\\anuus\\anaconda3\\lib\\site-packages\\sklearn\\ensemble\\_forest.py:416: FutureWarning: `max_features='auto'` has been deprecated in 1.1 and will be removed in 1.3. To keep the past behaviour, explicitly set `max_features=1.0` or remove this parameter as it is also the default value for RandomForestRegressors and ExtraTreesRegressors.\n",
      "  warn(\n",
      "C:\\Users\\anuus\\anaconda3\\lib\\site-packages\\sklearn\\ensemble\\_forest.py:416: FutureWarning: `max_features='auto'` has been deprecated in 1.1 and will be removed in 1.3. To keep the past behaviour, explicitly set `max_features=1.0` or remove this parameter as it is also the default value for RandomForestRegressors and ExtraTreesRegressors.\n",
      "  warn(\n",
      "C:\\Users\\anuus\\anaconda3\\lib\\site-packages\\sklearn\\ensemble\\_forest.py:416: FutureWarning: `max_features='auto'` has been deprecated in 1.1 and will be removed in 1.3. To keep the past behaviour, explicitly set `max_features=1.0` or remove this parameter as it is also the default value for RandomForestRegressors and ExtraTreesRegressors.\n",
      "  warn(\n",
      "C:\\Users\\anuus\\anaconda3\\lib\\site-packages\\sklearn\\ensemble\\_forest.py:416: FutureWarning: `max_features='auto'` has been deprecated in 1.1 and will be removed in 1.3. To keep the past behaviour, explicitly set `max_features=1.0` or remove this parameter as it is also the default value for RandomForestRegressors and ExtraTreesRegressors.\n",
      "  warn(\n",
      "C:\\Users\\anuus\\anaconda3\\lib\\site-packages\\sklearn\\ensemble\\_forest.py:416: FutureWarning: `max_features='auto'` has been deprecated in 1.1 and will be removed in 1.3. To keep the past behaviour, explicitly set `max_features=1.0` or remove this parameter as it is also the default value for RandomForestRegressors and ExtraTreesRegressors.\n",
      "  warn(\n",
      "C:\\Users\\anuus\\anaconda3\\lib\\site-packages\\sklearn\\ensemble\\_forest.py:416: FutureWarning: `max_features='auto'` has been deprecated in 1.1 and will be removed in 1.3. To keep the past behaviour, explicitly set `max_features=1.0` or remove this parameter as it is also the default value for RandomForestRegressors and ExtraTreesRegressors.\n",
      "  warn(\n",
      "C:\\Users\\anuus\\anaconda3\\lib\\site-packages\\sklearn\\ensemble\\_forest.py:416: FutureWarning: `max_features='auto'` has been deprecated in 1.1 and will be removed in 1.3. To keep the past behaviour, explicitly set `max_features=1.0` or remove this parameter as it is also the default value for RandomForestRegressors and ExtraTreesRegressors.\n",
      "  warn(\n",
      "C:\\Users\\anuus\\anaconda3\\lib\\site-packages\\sklearn\\ensemble\\_forest.py:416: FutureWarning: `max_features='auto'` has been deprecated in 1.1 and will be removed in 1.3. To keep the past behaviour, explicitly set `max_features=1.0` or remove this parameter as it is also the default value for RandomForestRegressors and ExtraTreesRegressors.\n",
      "  warn(\n",
      "C:\\Users\\anuus\\anaconda3\\lib\\site-packages\\sklearn\\ensemble\\_forest.py:416: FutureWarning: `max_features='auto'` has been deprecated in 1.1 and will be removed in 1.3. To keep the past behaviour, explicitly set `max_features=1.0` or remove this parameter as it is also the default value for RandomForestRegressors and ExtraTreesRegressors.\n",
      "  warn(\n",
      "C:\\Users\\anuus\\anaconda3\\lib\\site-packages\\sklearn\\ensemble\\_forest.py:416: FutureWarning: `max_features='auto'` has been deprecated in 1.1 and will be removed in 1.3. To keep the past behaviour, explicitly set `max_features=1.0` or remove this parameter as it is also the default value for RandomForestRegressors and ExtraTreesRegressors.\n",
      "  warn(\n",
      "C:\\Users\\anuus\\anaconda3\\lib\\site-packages\\sklearn\\ensemble\\_forest.py:416: FutureWarning: `max_features='auto'` has been deprecated in 1.1 and will be removed in 1.3. To keep the past behaviour, explicitly set `max_features=1.0` or remove this parameter as it is also the default value for RandomForestRegressors and ExtraTreesRegressors.\n",
      "  warn(\n",
      "C:\\Users\\anuus\\anaconda3\\lib\\site-packages\\sklearn\\ensemble\\_forest.py:416: FutureWarning: `max_features='auto'` has been deprecated in 1.1 and will be removed in 1.3. To keep the past behaviour, explicitly set `max_features=1.0` or remove this parameter as it is also the default value for RandomForestRegressors and ExtraTreesRegressors.\n",
      "  warn(\n",
      "C:\\Users\\anuus\\anaconda3\\lib\\site-packages\\sklearn\\ensemble\\_forest.py:416: FutureWarning: `max_features='auto'` has been deprecated in 1.1 and will be removed in 1.3. To keep the past behaviour, explicitly set `max_features=1.0` or remove this parameter as it is also the default value for RandomForestRegressors and ExtraTreesRegressors.\n",
      "  warn(\n",
      "C:\\Users\\anuus\\anaconda3\\lib\\site-packages\\sklearn\\ensemble\\_forest.py:416: FutureWarning: `max_features='auto'` has been deprecated in 1.1 and will be removed in 1.3. To keep the past behaviour, explicitly set `max_features=1.0` or remove this parameter as it is also the default value for RandomForestRegressors and ExtraTreesRegressors.\n",
      "  warn(\n",
      "C:\\Users\\anuus\\anaconda3\\lib\\site-packages\\sklearn\\ensemble\\_forest.py:416: FutureWarning: `max_features='auto'` has been deprecated in 1.1 and will be removed in 1.3. To keep the past behaviour, explicitly set `max_features=1.0` or remove this parameter as it is also the default value for RandomForestRegressors and ExtraTreesRegressors.\n",
      "  warn(\n",
      "C:\\Users\\anuus\\anaconda3\\lib\\site-packages\\sklearn\\ensemble\\_forest.py:416: FutureWarning: `max_features='auto'` has been deprecated in 1.1 and will be removed in 1.3. To keep the past behaviour, explicitly set `max_features=1.0` or remove this parameter as it is also the default value for RandomForestRegressors and ExtraTreesRegressors.\n",
      "  warn(\n",
      "C:\\Users\\anuus\\anaconda3\\lib\\site-packages\\sklearn\\ensemble\\_forest.py:416: FutureWarning: `max_features='auto'` has been deprecated in 1.1 and will be removed in 1.3. To keep the past behaviour, explicitly set `max_features=1.0` or remove this parameter as it is also the default value for RandomForestRegressors and ExtraTreesRegressors.\n",
      "  warn(\n",
      "C:\\Users\\anuus\\anaconda3\\lib\\site-packages\\sklearn\\ensemble\\_forest.py:416: FutureWarning: `max_features='auto'` has been deprecated in 1.1 and will be removed in 1.3. To keep the past behaviour, explicitly set `max_features=1.0` or remove this parameter as it is also the default value for RandomForestRegressors and ExtraTreesRegressors.\n",
      "  warn(\n",
      "C:\\Users\\anuus\\anaconda3\\lib\\site-packages\\sklearn\\ensemble\\_forest.py:416: FutureWarning: `max_features='auto'` has been deprecated in 1.1 and will be removed in 1.3. To keep the past behaviour, explicitly set `max_features=1.0` or remove this parameter as it is also the default value for RandomForestRegressors and ExtraTreesRegressors.\n",
      "  warn(\n",
      "C:\\Users\\anuus\\anaconda3\\lib\\site-packages\\sklearn\\ensemble\\_forest.py:416: FutureWarning: `max_features='auto'` has been deprecated in 1.1 and will be removed in 1.3. To keep the past behaviour, explicitly set `max_features=1.0` or remove this parameter as it is also the default value for RandomForestRegressors and ExtraTreesRegressors.\n",
      "  warn(\n",
      "C:\\Users\\anuus\\anaconda3\\lib\\site-packages\\sklearn\\ensemble\\_forest.py:416: FutureWarning: `max_features='auto'` has been deprecated in 1.1 and will be removed in 1.3. To keep the past behaviour, explicitly set `max_features=1.0` or remove this parameter as it is also the default value for RandomForestRegressors and ExtraTreesRegressors.\n",
      "  warn(\n",
      "C:\\Users\\anuus\\anaconda3\\lib\\site-packages\\sklearn\\ensemble\\_forest.py:416: FutureWarning: `max_features='auto'` has been deprecated in 1.1 and will be removed in 1.3. To keep the past behaviour, explicitly set `max_features=1.0` or remove this parameter as it is also the default value for RandomForestRegressors and ExtraTreesRegressors.\n",
      "  warn(\n",
      "C:\\Users\\anuus\\anaconda3\\lib\\site-packages\\sklearn\\ensemble\\_forest.py:416: FutureWarning: `max_features='auto'` has been deprecated in 1.1 and will be removed in 1.3. To keep the past behaviour, explicitly set `max_features=1.0` or remove this parameter as it is also the default value for RandomForestRegressors and ExtraTreesRegressors.\n",
      "  warn(\n",
      "C:\\Users\\anuus\\anaconda3\\lib\\site-packages\\sklearn\\ensemble\\_forest.py:416: FutureWarning: `max_features='auto'` has been deprecated in 1.1 and will be removed in 1.3. To keep the past behaviour, explicitly set `max_features=1.0` or remove this parameter as it is also the default value for RandomForestRegressors and ExtraTreesRegressors.\n",
      "  warn(\n",
      "C:\\Users\\anuus\\anaconda3\\lib\\site-packages\\sklearn\\ensemble\\_forest.py:416: FutureWarning: `max_features='auto'` has been deprecated in 1.1 and will be removed in 1.3. To keep the past behaviour, explicitly set `max_features=1.0` or remove this parameter as it is also the default value for RandomForestRegressors and ExtraTreesRegressors.\n",
      "  warn(\n",
      "C:\\Users\\anuus\\anaconda3\\lib\\site-packages\\sklearn\\ensemble\\_forest.py:416: FutureWarning: `max_features='auto'` has been deprecated in 1.1 and will be removed in 1.3. To keep the past behaviour, explicitly set `max_features=1.0` or remove this parameter as it is also the default value for RandomForestRegressors and ExtraTreesRegressors.\n",
      "  warn(\n",
      "C:\\Users\\anuus\\anaconda3\\lib\\site-packages\\sklearn\\ensemble\\_forest.py:416: FutureWarning: `max_features='auto'` has been deprecated in 1.1 and will be removed in 1.3. To keep the past behaviour, explicitly set `max_features=1.0` or remove this parameter as it is also the default value for RandomForestRegressors and ExtraTreesRegressors.\n",
      "  warn(\n",
      "C:\\Users\\anuus\\anaconda3\\lib\\site-packages\\sklearn\\ensemble\\_forest.py:416: FutureWarning: `max_features='auto'` has been deprecated in 1.1 and will be removed in 1.3. To keep the past behaviour, explicitly set `max_features=1.0` or remove this parameter as it is also the default value for RandomForestRegressors and ExtraTreesRegressors.\n",
      "  warn(\n",
      "C:\\Users\\anuus\\anaconda3\\lib\\site-packages\\sklearn\\ensemble\\_forest.py:416: FutureWarning: `max_features='auto'` has been deprecated in 1.1 and will be removed in 1.3. To keep the past behaviour, explicitly set `max_features=1.0` or remove this parameter as it is also the default value for RandomForestRegressors and ExtraTreesRegressors.\n",
      "  warn(\n",
      "C:\\Users\\anuus\\anaconda3\\lib\\site-packages\\sklearn\\ensemble\\_forest.py:416: FutureWarning: `max_features='auto'` has been deprecated in 1.1 and will be removed in 1.3. To keep the past behaviour, explicitly set `max_features=1.0` or remove this parameter as it is also the default value for RandomForestRegressors and ExtraTreesRegressors.\n",
      "  warn(\n",
      "C:\\Users\\anuus\\anaconda3\\lib\\site-packages\\sklearn\\ensemble\\_forest.py:416: FutureWarning: `max_features='auto'` has been deprecated in 1.1 and will be removed in 1.3. To keep the past behaviour, explicitly set `max_features=1.0` or remove this parameter as it is also the default value for RandomForestRegressors and ExtraTreesRegressors.\n",
      "  warn(\n",
      "C:\\Users\\anuus\\anaconda3\\lib\\site-packages\\sklearn\\ensemble\\_forest.py:416: FutureWarning: `max_features='auto'` has been deprecated in 1.1 and will be removed in 1.3. To keep the past behaviour, explicitly set `max_features=1.0` or remove this parameter as it is also the default value for RandomForestRegressors and ExtraTreesRegressors.\n",
      "  warn(\n",
      "C:\\Users\\anuus\\anaconda3\\lib\\site-packages\\sklearn\\ensemble\\_forest.py:416: FutureWarning: `max_features='auto'` has been deprecated in 1.1 and will be removed in 1.3. To keep the past behaviour, explicitly set `max_features=1.0` or remove this parameter as it is also the default value for RandomForestRegressors and ExtraTreesRegressors.\n",
      "  warn(\n",
      "C:\\Users\\anuus\\anaconda3\\lib\\site-packages\\sklearn\\ensemble\\_forest.py:416: FutureWarning: `max_features='auto'` has been deprecated in 1.1 and will be removed in 1.3. To keep the past behaviour, explicitly set `max_features=1.0` or remove this parameter as it is also the default value for RandomForestRegressors and ExtraTreesRegressors.\n",
      "  warn(\n",
      "C:\\Users\\anuus\\anaconda3\\lib\\site-packages\\sklearn\\ensemble\\_forest.py:416: FutureWarning: `max_features='auto'` has been deprecated in 1.1 and will be removed in 1.3. To keep the past behaviour, explicitly set `max_features=1.0` or remove this parameter as it is also the default value for RandomForestRegressors and ExtraTreesRegressors.\n",
      "  warn(\n",
      "C:\\Users\\anuus\\anaconda3\\lib\\site-packages\\sklearn\\ensemble\\_forest.py:416: FutureWarning: `max_features='auto'` has been deprecated in 1.1 and will be removed in 1.3. To keep the past behaviour, explicitly set `max_features=1.0` or remove this parameter as it is also the default value for RandomForestRegressors and ExtraTreesRegressors.\n",
      "  warn(\n",
      "C:\\Users\\anuus\\anaconda3\\lib\\site-packages\\sklearn\\ensemble\\_forest.py:416: FutureWarning: `max_features='auto'` has been deprecated in 1.1 and will be removed in 1.3. To keep the past behaviour, explicitly set `max_features=1.0` or remove this parameter as it is also the default value for RandomForestRegressors and ExtraTreesRegressors.\n",
      "  warn(\n"
     ]
    },
    {
     "name": "stdout",
     "output_type": "stream",
     "text": [
      "{'bootstrap': True, 'max_depth': 100, 'max_features': 3, 'n_estimators': 100}\n"
     ]
    }
   ],
   "source": [
    "grid_search.fit(X_train, Y_train);           ##fitting data in model\n",
    "print(grid_search.best_params_);             ##printing best parameter for model"
   ]
  },
  {
   "cell_type": "code",
   "execution_count": 102,
   "id": "dc3273d8",
   "metadata": {},
   "outputs": [
    {
     "name": "stdout",
     "output_type": "stream",
     "text": [
      "Accuracy on Traing set:  98.09049983402498\n",
      "Accuracy on Testing set:  90.90530701162282\n"
     ]
    }
   ],
   "source": [
    "print(\"Accuracy on Traing set: \",grid_search.score(X_train,Y_train)*100)\n",
    "print(\"Accuracy on Testing set: \",grid_search.score(X_test,Y_test)*100) "
   ]
  }
 ],
 "metadata": {
  "kernelspec": {
   "display_name": "Python 3 (ipykernel)",
   "language": "python",
   "name": "python3"
  },
  "language_info": {
   "codemirror_mode": {
    "name": "ipython",
    "version": 3
   },
   "file_extension": ".py",
   "mimetype": "text/x-python",
   "name": "python",
   "nbconvert_exporter": "python",
   "pygments_lexer": "ipython3",
   "version": "3.9.7"
  }
 },
 "nbformat": 4,
 "nbformat_minor": 5
}
